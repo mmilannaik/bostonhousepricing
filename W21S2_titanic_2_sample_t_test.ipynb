{
  "metadata": {
    "kernelspec": {
      "language": "python",
      "display_name": "Python 3",
      "name": "python3"
    },
    "language_info": {
      "pygments_lexer": "ipython3",
      "nbconvert_exporter": "python",
      "version": "3.6.4",
      "file_extension": ".py",
      "codemirror_mode": {
        "name": "ipython",
        "version": 3
      },
      "name": "python",
      "mimetype": "text/x-python"
    },
    "colab": {
      "name": "titanic-2-sample-t-test",
      "provenance": [],
      "include_colab_link": true
    }
  },
  "nbformat_minor": 0,
  "nbformat": 4,
  "cells": [
    {
      "cell_type": "markdown",
      "metadata": {
        "id": "view-in-github",
        "colab_type": "text"
      },
      "source": [
        "<a href=\"https://colab.research.google.com/github/mmilannaik/bostonhousepricing/blob/main/W21S2_titanic_2_sample_t_test.ipynb\" target=\"_parent\"><img src=\"https://colab.research.google.com/assets/colab-badge.svg\" alt=\"Open In Colab\"/></a>"
      ]
    },
    {
      "source": [
        "\n",
        "# IMPORTANT: RUN THIS CELL IN ORDER TO IMPORT YOUR KAGGLE DATA SOURCES\n",
        "# TO THE CORRECT LOCATION (/kaggle/input) IN YOUR NOTEBOOK,\n",
        "# THEN FEEL FREE TO DELETE THIS CELL.\n",
        "# NOTE: THIS NOTEBOOK ENVIRONMENT DIFFERS FROM KAGGLE'S PYTHON\n",
        "# ENVIRONMENT SO THERE MAY BE MISSING LIBRARIES USED BY YOUR\n",
        "# NOTEBOOK.\n",
        "\n",
        "import os\n",
        "import sys\n",
        "from tempfile import NamedTemporaryFile\n",
        "from urllib.request import urlopen\n",
        "from urllib.parse import unquote, urlparse\n",
        "from urllib.error import HTTPError\n",
        "from zipfile import ZipFile\n",
        "import tarfile\n",
        "import shutil\n",
        "\n",
        "CHUNK_SIZE = 40960\n",
        "DATA_SOURCE_MAPPING = 'titanic:https%3A%2F%2Fstorage.googleapis.com%2Fkaggle-competitions-data%2Fkaggle-v2%2F3136%2F26502%2Fbundle%2Farchive.zip%3FX-Goog-Algorithm%3DGOOG4-RSA-SHA256%26X-Goog-Credential%3Dgcp-kaggle-com%2540kaggle-161607.iam.gserviceaccount.com%252F20240705%252Fauto%252Fstorage%252Fgoog4_request%26X-Goog-Date%3D20240705T074631Z%26X-Goog-Expires%3D259200%26X-Goog-SignedHeaders%3Dhost%26X-Goog-Signature%3Dcd031f0e3e460b5777943d19288819c181684b673562719a27c1b75c2b82f16627b8d5e0ca14b60526972c34afdb6ffb615bf3a2bd55e2c5b535db7efa3f4ddfc355e616994186c078b183ef339076d40d4d42cb43a88fd65b251a60e54559238e43adad7aeee69728554fb1b14b3d28e723aa7b14ad0115ee68f255347d83c32af3aeaf23faf5868527f9b7de2a9d94054e1934f526f4b682f1147e4c73d6ba3bf9e33107e70ce6d3926713b3d3fe6db025d965c98af6fb6b06f8e5d6a970053be7c9949520f5d3ea83e6eeebeb1507893687fcee38d5e3cbb8b5a443134bc1f74b98fe2ab1e68e828624d452c647e40f37e75b9a1648c05abf1c240aced519'\n",
        "\n",
        "KAGGLE_INPUT_PATH='/kaggle/input'\n",
        "KAGGLE_WORKING_PATH='/kaggle/working'\n",
        "KAGGLE_SYMLINK='kaggle'\n",
        "\n",
        "!umount /kaggle/input/ 2> /dev/null\n",
        "shutil.rmtree('/kaggle/input', ignore_errors=True)\n",
        "os.makedirs(KAGGLE_INPUT_PATH, 0o777, exist_ok=True)\n",
        "os.makedirs(KAGGLE_WORKING_PATH, 0o777, exist_ok=True)\n",
        "\n",
        "try:\n",
        "  os.symlink(KAGGLE_INPUT_PATH, os.path.join(\"..\", 'input'), target_is_directory=True)\n",
        "except FileExistsError:\n",
        "  pass\n",
        "try:\n",
        "  os.symlink(KAGGLE_WORKING_PATH, os.path.join(\"..\", 'working'), target_is_directory=True)\n",
        "except FileExistsError:\n",
        "  pass\n",
        "\n",
        "for data_source_mapping in DATA_SOURCE_MAPPING.split(','):\n",
        "    directory, download_url_encoded = data_source_mapping.split(':')\n",
        "    download_url = unquote(download_url_encoded)\n",
        "    filename = urlparse(download_url).path\n",
        "    destination_path = os.path.join(KAGGLE_INPUT_PATH, directory)\n",
        "    try:\n",
        "        with urlopen(download_url) as fileres, NamedTemporaryFile() as tfile:\n",
        "            total_length = fileres.headers['content-length']\n",
        "            print(f'Downloading {directory}, {total_length} bytes compressed')\n",
        "            dl = 0\n",
        "            data = fileres.read(CHUNK_SIZE)\n",
        "            while len(data) > 0:\n",
        "                dl += len(data)\n",
        "                tfile.write(data)\n",
        "                done = int(50 * dl / int(total_length))\n",
        "                sys.stdout.write(f\"\\r[{'=' * done}{' ' * (50-done)}] {dl} bytes downloaded\")\n",
        "                sys.stdout.flush()\n",
        "                data = fileres.read(CHUNK_SIZE)\n",
        "            if filename.endswith('.zip'):\n",
        "              with ZipFile(tfile) as zfile:\n",
        "                zfile.extractall(destination_path)\n",
        "            else:\n",
        "              with tarfile.open(tfile.name) as tarfile:\n",
        "                tarfile.extractall(destination_path)\n",
        "            print(f'\\nDownloaded and uncompressed: {directory}')\n",
        "    except HTTPError as e:\n",
        "        print(f'Failed to load (likely expired) {download_url} to path {destination_path}')\n",
        "        continue\n",
        "    except OSError as e:\n",
        "        print(f'Failed to load {download_url} to path {destination_path}')\n",
        "        continue\n",
        "\n",
        "print('Data source import complete.')\n"
      ],
      "metadata": {
        "id": "o909PEgt2_NZ"
      },
      "cell_type": "code",
      "outputs": [],
      "execution_count": null
    },
    {
      "cell_type": "code",
      "source": [
        "# This Python 3 environment comes with many helpful analytics libraries installed\n",
        "# It is defined by the kaggle/python Docker image: https://github.com/kaggle/docker-python\n",
        "# For example, here's several helpful packages to load\n",
        "\n",
        "import numpy as np # linear algebra\n",
        "import pandas as pd # data processing, CSV file I/O (e.g. pd.read_csv)\n",
        "\n",
        "# Input data files are available in the read-only \"../input/\" directory\n",
        "# For example, running this (by clicking run or pressing Shift+Enter) will list all files under the input directory\n",
        "\n",
        "import os\n",
        "for dirname, _, filenames in os.walk('/kaggle/input'):\n",
        "    for filename in filenames:\n",
        "        print(os.path.join(dirname, filename))\n",
        "\n",
        "# You can write up to 20GB to the current directory (/kaggle/working/) that gets preserved as output when you create a version using \"Save & Run All\"\n",
        "# You can also write temporary files to /kaggle/temp/, but they won't be saved outside of the current session"
      ],
      "metadata": {
        "_uuid": "8f2839f25d086af736a60e9eeb907d3b93b6e0e5",
        "_cell_guid": "b1076dfc-b9ad-4769-8c92-a6c4dae69d19",
        "execution": {
          "iopub.status.busy": "2023-04-06T16:14:27.145846Z",
          "iopub.execute_input": "2023-04-06T16:14:27.146287Z",
          "iopub.status.idle": "2023-04-06T16:14:27.183869Z",
          "shell.execute_reply.started": "2023-04-06T16:14:27.14625Z",
          "shell.execute_reply": "2023-04-06T16:14:27.182372Z"
        },
        "trusted": true,
        "id": "mcVVFnBS2_Ne"
      },
      "execution_count": null,
      "outputs": []
    },
    {
      "cell_type": "code",
      "source": [
        "train = pd.read_csv('/kaggle/input/titanic/train.csv').drop(columns=['Survived'])\n",
        "test = pd.read_csv('/kaggle/input/titanic/test.csv')"
      ],
      "metadata": {
        "execution": {
          "iopub.status.busy": "2023-04-06T16:14:30.849139Z",
          "iopub.execute_input": "2023-04-06T16:14:30.850312Z",
          "iopub.status.idle": "2023-04-06T16:14:30.88538Z",
          "shell.execute_reply.started": "2023-04-06T16:14:30.850248Z",
          "shell.execute_reply": "2023-04-06T16:14:30.884257Z"
        },
        "trusted": true,
        "id": "GrkuqBm12_Nf"
      },
      "execution_count": null,
      "outputs": []
    },
    {
      "cell_type": "code",
      "source": [
        "final_df = pd.concat([train,test]).sample(1309)"
      ],
      "metadata": {
        "execution": {
          "iopub.status.busy": "2023-04-06T16:14:33.628629Z",
          "iopub.execute_input": "2023-04-06T16:14:33.629087Z",
          "iopub.status.idle": "2023-04-06T16:14:33.641248Z",
          "shell.execute_reply.started": "2023-04-06T16:14:33.629019Z",
          "shell.execute_reply": "2023-04-06T16:14:33.640201Z"
        },
        "trusted": true,
        "id": "W2FE6tvY2_Nf"
      },
      "execution_count": null,
      "outputs": []
    },
    {
      "cell_type": "code",
      "source": [
        "pop_male = final_df[final_df['Sex'] == 'male']['Age'].dropna()\n",
        "pop_female = final_df[final_df['Sex'] == 'female']['Age'].dropna()"
      ],
      "metadata": {
        "execution": {
          "iopub.status.busy": "2023-04-06T16:14:35.647539Z",
          "iopub.execute_input": "2023-04-06T16:14:35.648373Z",
          "iopub.status.idle": "2023-04-06T16:14:35.661169Z",
          "shell.execute_reply.started": "2023-04-06T16:14:35.648324Z",
          "shell.execute_reply": "2023-04-06T16:14:35.659371Z"
        },
        "trusted": true,
        "id": "430YSGxM2_Nf"
      },
      "execution_count": null,
      "outputs": []
    },
    {
      "cell_type": "code",
      "source": [
        "pop_female"
      ],
      "metadata": {
        "execution": {
          "iopub.status.busy": "2023-04-06T16:14:52.370797Z",
          "iopub.execute_input": "2023-04-06T16:14:52.371278Z",
          "iopub.status.idle": "2023-04-06T16:14:52.382204Z",
          "shell.execute_reply.started": "2023-04-06T16:14:52.371218Z",
          "shell.execute_reply": "2023-04-06T16:14:52.380882Z"
        },
        "trusted": true,
        "id": "ACLw9rZI2_Nf"
      },
      "execution_count": null,
      "outputs": []
    },
    {
      "cell_type": "code",
      "source": [
        "sample_male = pop_male.sample(25)\n",
        "sample_female = pop_female.sample(25)\n",
        "\n",
        "alpha = 0.05"
      ],
      "metadata": {
        "execution": {
          "iopub.status.busy": "2023-04-06T12:55:04.997595Z",
          "iopub.execute_input": "2023-04-06T12:55:04.997999Z",
          "iopub.status.idle": "2023-04-06T12:55:05.004651Z",
          "shell.execute_reply.started": "2023-04-06T12:55:04.997965Z",
          "shell.execute_reply": "2023-04-06T12:55:05.003433Z"
        },
        "trusted": true,
        "id": "FwPcK2TD2_Ng"
      },
      "execution_count": null,
      "outputs": []
    },
    {
      "cell_type": "code",
      "source": [
        "# H0 - Mean age of male and female are similar\n",
        "# H1 - Mean age of male is higher than female"
      ],
      "metadata": {
        "execution": {
          "iopub.status.busy": "2023-04-06T12:55:08.865213Z",
          "iopub.execute_input": "2023-04-06T12:55:08.865629Z",
          "iopub.status.idle": "2023-04-06T12:55:08.871018Z",
          "shell.execute_reply.started": "2023-04-06T12:55:08.86559Z",
          "shell.execute_reply": "2023-04-06T12:55:08.869218Z"
        },
        "trusted": true,
        "id": "g-ZOsECU2_Ng"
      },
      "execution_count": null,
      "outputs": []
    },
    {
      "cell_type": "code",
      "source": [
        "pop_male.mean()"
      ],
      "metadata": {
        "execution": {
          "iopub.status.busy": "2023-04-06T16:17:47.796592Z",
          "iopub.execute_input": "2023-04-06T16:17:47.797034Z",
          "iopub.status.idle": "2023-04-06T16:17:47.805594Z",
          "shell.execute_reply.started": "2023-04-06T16:17:47.796994Z",
          "shell.execute_reply": "2023-04-06T16:17:47.804355Z"
        },
        "trusted": true,
        "id": "gL5X0sMD2_Ng"
      },
      "execution_count": null,
      "outputs": []
    },
    {
      "cell_type": "code",
      "source": [
        "pop_female.mean()"
      ],
      "metadata": {
        "execution": {
          "iopub.status.busy": "2023-04-06T16:17:57.289587Z",
          "iopub.execute_input": "2023-04-06T16:17:57.290042Z",
          "iopub.status.idle": "2023-04-06T16:17:57.297782Z",
          "shell.execute_reply.started": "2023-04-06T16:17:57.290001Z",
          "shell.execute_reply": "2023-04-06T16:17:57.29676Z"
        },
        "trusted": true,
        "id": "Gn1g3Qrh2_Nh"
      },
      "execution_count": null,
      "outputs": []
    },
    {
      "cell_type": "code",
      "source": [
        "from scipy.stats import shapiro\n",
        "\n",
        "# Perform the Shapiro-Wilk test for both desktop and mobile users\n",
        "shapiro_male = shapiro(sample_male)\n",
        "shapiro_female = shapiro(sample_female)\n",
        "\n",
        "print(\"Shapiro-Wilk test for desktop users:\", shapiro_male)\n",
        "print(\"Shapiro-Wilk test for mobile users:\", shapiro_female)"
      ],
      "metadata": {
        "execution": {
          "iopub.status.busy": "2023-04-06T12:56:36.641993Z",
          "iopub.execute_input": "2023-04-06T12:56:36.642791Z",
          "iopub.status.idle": "2023-04-06T12:56:36.914629Z",
          "shell.execute_reply.started": "2023-04-06T12:56:36.642745Z",
          "shell.execute_reply": "2023-04-06T12:56:36.912078Z"
        },
        "trusted": true,
        "id": "XHJcR2WW2_Nh"
      },
      "execution_count": null,
      "outputs": []
    },
    {
      "cell_type": "code",
      "source": [
        "from scipy.stats import levene\n",
        "\n",
        "# Perform Levene's test\n",
        "levene_test = levene(sample_male, sample_female)\n",
        "print(levene_test)"
      ],
      "metadata": {
        "execution": {
          "iopub.status.busy": "2023-04-06T12:57:07.136275Z",
          "iopub.execute_input": "2023-04-06T12:57:07.136792Z",
          "iopub.status.idle": "2023-04-06T12:57:07.152134Z",
          "shell.execute_reply.started": "2023-04-06T12:57:07.13675Z",
          "shell.execute_reply": "2023-04-06T12:57:07.150723Z"
        },
        "trusted": true,
        "id": "iudPdBN72_Nh"
      },
      "execution_count": null,
      "outputs": []
    },
    {
      "cell_type": "code",
      "source": [
        "import scipy.stats as stats\n",
        "\n",
        "t_statistic, p_value = stats.ttest_ind(sample_male, sample_female)\n",
        "\n",
        "print(\"t-statistic:\", t_statistic)\n",
        "print(\"p-value:\", p_value/2)"
      ],
      "metadata": {
        "execution": {
          "iopub.status.busy": "2023-04-06T13:04:27.509491Z",
          "iopub.execute_input": "2023-04-06T13:04:27.50996Z",
          "iopub.status.idle": "2023-04-06T13:04:27.519132Z",
          "shell.execute_reply.started": "2023-04-06T13:04:27.50992Z",
          "shell.execute_reply": "2023-04-06T13:04:27.517326Z"
        },
        "trusted": true,
        "id": "oZZKbR3Z2_Nh"
      },
      "execution_count": null,
      "outputs": []
    },
    {
      "cell_type": "code",
      "source": [
        "alpha = 0.05\n",
        "\n",
        "if p_value < alpha:\n",
        "    print(\"Reject the null hypothesis.\")\n",
        "else:\n",
        "    print(\"Fail to reject the null hypothesis.\")"
      ],
      "metadata": {
        "execution": {
          "iopub.status.busy": "2023-04-06T13:00:15.906762Z",
          "iopub.execute_input": "2023-04-06T13:00:15.908621Z",
          "iopub.status.idle": "2023-04-06T13:00:15.915892Z",
          "shell.execute_reply.started": "2023-04-06T13:00:15.908561Z",
          "shell.execute_reply": "2023-04-06T13:00:15.914524Z"
        },
        "trusted": true,
        "id": "0p7ALkyz2_Nh"
      },
      "execution_count": null,
      "outputs": []
    },
    {
      "cell_type": "code",
      "source": [],
      "metadata": {
        "id": "KhbeIX_V2_Nh"
      },
      "execution_count": null,
      "outputs": []
    }
  ]
}