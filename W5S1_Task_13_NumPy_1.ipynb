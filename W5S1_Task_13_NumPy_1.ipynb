{
  "nbformat": 4,
  "nbformat_minor": 0,
  "metadata": {
    "colab": {
      "provenance": [],
      "include_colab_link": true
    },
    "kernelspec": {
      "name": "python3",
      "display_name": "Python 3"
    },
    "language_info": {
      "name": "python"
    }
  },
  "cells": [
    {
      "cell_type": "markdown",
      "metadata": {
        "id": "view-in-github",
        "colab_type": "text"
      },
      "source": [
        "<a href=\"https://colab.research.google.com/github/mmilannaik/bostonhousepricing/blob/main/W5S1_Task_13_NumPy_1.ipynb\" target=\"_parent\"><img src=\"https://colab.research.google.com/assets/colab-badge.svg\" alt=\"Open In Colab\"/></a>"
      ]
    },
    {
      "cell_type": "markdown",
      "source": [
        "**Note: In Data Science googling is a very important skill. If you find some difficulties to solve the problem, google it and try to find some clues to solve.**"
      ],
      "metadata": {
        "id": "6WdKdPGx-tnY"
      }
    },
    {
      "cell_type": "code",
      "source": [
        "import numpy as np"
      ],
      "metadata": {
        "id": "-J4F1ysN4mLk"
      },
      "execution_count": 1,
      "outputs": []
    },
    {
      "cell_type": "markdown",
      "source": [
        "###`Q-1` Create a null vector of size 10 but the fifth value which is 1.\n",
        "\n"
      ],
      "metadata": {
        "id": "a_K8IH-C6HDK"
      }
    },
    {
      "cell_type": "code",
      "source": [
        "#Code here\n",
        "a = np.zeros(10)\n",
        "a[4]=1\n",
        "a\n"
      ],
      "metadata": {
        "id": "sTF03KsZ6QUI",
        "colab": {
          "base_uri": "https://localhost:8080/"
        },
        "outputId": "9af8312f-a3a8-4ec8-9a31-f0fdb8040a8a"
      },
      "execution_count": null,
      "outputs": [
        {
          "output_type": "execute_result",
          "data": {
            "text/plain": [
              "array([0., 0., 0., 0., 1., 0., 0., 0., 0., 0.])"
            ]
          },
          "metadata": {},
          "execution_count": 2
        }
      ]
    },
    {
      "cell_type": "markdown",
      "source": [
        "###`Q-2` Ask user to input two numbers a, b. Write a program to generate a random array of shape (a, b) and print the array and avg of the array."
      ],
      "metadata": {
        "id": "TEiG25rS6S1i"
      }
    },
    {
      "cell_type": "code",
      "source": [
        "#Code here\n",
        "a = input('Enter the first number')\n",
        "b = input('Enter second number')\n",
        "\n",
        "arr = np.array(np.random.rand(int(a)*int(b)))\n",
        "print(arr)\n",
        "arr = arr.reshape(int(a),int(b))\n",
        "print('average of array is ',np.mean(arr))"
      ],
      "metadata": {
        "id": "ihwn4oOH6Vh7",
        "colab": {
          "base_uri": "https://localhost:8080/"
        },
        "outputId": "f1919ec7-d68f-4d0e-b0f2-363b4cfaf9b4"
      },
      "execution_count": null,
      "outputs": [
        {
          "output_type": "stream",
          "name": "stdout",
          "text": [
            "Enter the first number3\n",
            "Enter second number4\n",
            "[0.97744824 0.89704476 0.68335866 0.70130334 0.52903591 0.19871355\n",
            " 0.65462934 0.04107067 0.80773805 0.4568603  0.50574121 0.27988376]\n",
            "average of array is  0.5610689828007865\n"
          ]
        }
      ]
    },
    {
      "cell_type": "markdown",
      "source": [
        "3###`Q-3`Write a function to create a 2d array with 1 on the border and 0 inside. Take 2-D array shape as (a,b) as parameter to function.\n",
        "\n",
        "Eg.-\n",
        "```\n",
        "[[1,1,1,1],\n",
        "[1,0,0,1],\n",
        "[1,0,0,1],\n",
        "[1,1,1,1]]\n",
        "```"
      ],
      "metadata": {
        "id": "2iEeybS06ZSq"
      }
    },
    {
      "cell_type": "code",
      "source": [
        "arr = np.zeros((4,4))\n",
        "arr[0,:]=1\n",
        "arr[-1,:]=1\n",
        "arr[:,0]=1\n",
        "arr[:,-1]=1"
      ],
      "metadata": {
        "id": "Gdh9iCWUqz3N"
      },
      "execution_count": null,
      "outputs": []
    },
    {
      "cell_type": "code",
      "source": [
        "#Code here\n",
        "def array_f(a,b):\n",
        "  arr = np.zeros((int(a),int(b)))\n",
        "  arr[0,:]=1\n",
        "  arr[-1,:]=1\n",
        "  arr[:,0]=1\n",
        "  arr[:,-1]=1\n",
        "  return arr"
      ],
      "metadata": {
        "id": "gEKndkDU6ZSs"
      },
      "execution_count": null,
      "outputs": []
    },
    {
      "cell_type": "code",
      "source": [
        "array_f(5,6)"
      ],
      "metadata": {
        "colab": {
          "base_uri": "https://localhost:8080/"
        },
        "id": "TcnJDlssulBx",
        "outputId": "dbdc1861-a356-4511-b0f2-a1d35cf31a29"
      },
      "execution_count": null,
      "outputs": [
        {
          "output_type": "execute_result",
          "data": {
            "text/plain": [
              "array([[1., 1., 1., 1., 1., 1.],\n",
              "       [1., 0., 0., 0., 0., 1.],\n",
              "       [1., 0., 0., 0., 0., 1.],\n",
              "       [1., 0., 0., 0., 0., 1.],\n",
              "       [1., 1., 1., 1., 1., 1.]])"
            ]
          },
          "metadata": {},
          "execution_count": 6
        }
      ]
    },
    {
      "cell_type": "markdown",
      "source": [
        "###`Q-4` Create a vector of size 10 with values ranging from 0 to 1, both excluded.\n"
      ],
      "metadata": {
        "id": "QRJicQ8j6ZlE"
      }
    },
    {
      "cell_type": "code",
      "source": [
        "#Code here\n",
        "np.arange(0.05,1,0.05)"
      ],
      "metadata": {
        "id": "eC4XLhDq6ZlF",
        "colab": {
          "base_uri": "https://localhost:8080/"
        },
        "outputId": "34282726-236a-49c9-c7d3-5587a6494d13"
      },
      "execution_count": null,
      "outputs": [
        {
          "output_type": "execute_result",
          "data": {
            "text/plain": [
              "array([0.05, 0.1 , 0.15, 0.2 , 0.25, 0.3 , 0.35, 0.4 , 0.45, 0.5 , 0.55,\n",
              "       0.6 , 0.65, 0.7 , 0.75, 0.8 , 0.85, 0.9 , 0.95])"
            ]
          },
          "metadata": {},
          "execution_count": 7
        }
      ]
    },
    {
      "cell_type": "markdown",
      "source": [
        "###`Q-5` Can you create a identity mattrix of shape (3,4). If yes write code for it."
      ],
      "metadata": {
        "id": "vb4jK4yQ6Zs2"
      }
    },
    {
      "cell_type": "code",
      "source": [
        "#Code here\n",
        "s = (3,4)\n",
        "np.ones(s)"
      ],
      "metadata": {
        "id": "DTV_AbMS6Zs4",
        "colab": {
          "base_uri": "https://localhost:8080/"
        },
        "outputId": "6a6d271c-9e1f-4e4d-fd47-9f31f610858a"
      },
      "execution_count": null,
      "outputs": [
        {
          "output_type": "execute_result",
          "data": {
            "text/plain": [
              "array([[1., 1., 1., 1.],\n",
              "       [1., 1., 1., 1.],\n",
              "       [1., 1., 1., 1.]])"
            ]
          },
          "metadata": {},
          "execution_count": 10
        }
      ]
    },
    {
      "cell_type": "markdown",
      "source": [
        "###`Q-6:` Create a 5x5 matrix with row values ranging from 0 to 4."
      ],
      "metadata": {
        "id": "QtjAFm5PEntK"
      }
    },
    {
      "cell_type": "code",
      "source": [],
      "metadata": {
        "id": "n9Yh7LXb4odp"
      },
      "execution_count": null,
      "outputs": []
    },
    {
      "cell_type": "code",
      "source": [
        "#Code here\n",
        "arr = np.zeros((5,5))\n",
        "#np.random.random((5,5))\n",
        "arr = arr + np.arange(5)\n",
        "arr"
      ],
      "metadata": {
        "id": "z2WGxRjvEuRS",
        "colab": {
          "base_uri": "https://localhost:8080/"
        },
        "outputId": "bb5e1218-05cc-4886-9141-754ba0f0b673"
      },
      "execution_count": null,
      "outputs": [
        {
          "output_type": "execute_result",
          "data": {
            "text/plain": [
              "array([[0., 1., 2., 3., 4.],\n",
              "       [0., 1., 2., 3., 4.],\n",
              "       [0., 1., 2., 3., 4.],\n",
              "       [0., 1., 2., 3., 4.],\n",
              "       [0., 1., 2., 3., 4.]])"
            ]
          },
          "metadata": {},
          "execution_count": 11
        }
      ]
    },
    {
      "cell_type": "markdown",
      "source": [
        "###`Q-7:`  Consider a random integer (in range 1 to 100) vector with shape `(10,2)` representing coordinates, and coordinates of a point as array is given. Create an array of distance of each point in the random vectros from the given point. Distance array should be interger type.\n",
        "\n",
        "```\n",
        "point = np.array([2,3])\n",
        "```\n"
      ],
      "metadata": {
        "id": "KPpvxKjVHnyx"
      }
    },
    {
      "cell_type": "code",
      "source": [
        "#code here\n",
        "ran_arr = np.random.randint(1,101,size=(10,2))\n",
        "point = np.array([2,3])\n",
        "dist = np.sqrt(np.sum((ran_arr-point)**2,axis=1))\n",
        "dist"
      ],
      "metadata": {
        "id": "X7KGnWLNIM6f",
        "colab": {
          "base_uri": "https://localhost:8080/"
        },
        "outputId": "d944c329-f1cd-4343-ffdc-5ff1a1fb433d"
      },
      "execution_count": null,
      "outputs": [
        {
          "output_type": "execute_result",
          "data": {
            "text/plain": [
              "array([28.0713377 , 46.06517123, 34.98571137, 56.63920903, 88.48163651,\n",
              "       78.23681998, 67.26812024, 26.01922366, 67.89698079, 60.6052803 ])"
            ]
          },
          "metadata": {},
          "execution_count": 12
        }
      ]
    },
    {
      "cell_type": "markdown",
      "source": [
        "###`Q-8:` Consider a (6,7,8) shape array, what is the index (x,y,z) of the 100th element?"
      ],
      "metadata": {
        "id": "tajOFJlCDwTr"
      }
    },
    {
      "cell_type": "code",
      "source": [
        "#Code here\n",
        "# for 100th element\n",
        "linear_index = 99\n",
        "z = 99%8\n",
        "y = (99//8)%7\n",
        "x = 99// (7*8)\n",
        "print(x,y,z)"
      ],
      "metadata": {
        "id": "qH4oxvs0D3Ra",
        "colab": {
          "base_uri": "https://localhost:8080/"
        },
        "outputId": "59b85c75-6893-4097-a425-b3b5c8a50211"
      },
      "execution_count": null,
      "outputs": [
        {
          "output_type": "stream",
          "name": "stdout",
          "text": [
            "1 5 3\n"
          ]
        }
      ]
    },
    {
      "cell_type": "code",
      "source": [
        "99//8"
      ],
      "metadata": {
        "id": "mCr1o1rT9xbw",
        "outputId": "21ebc97a-0b1b-4622-8c58-1d3e14c904a2",
        "colab": {
          "base_uri": "https://localhost:8080/"
        }
      },
      "execution_count": null,
      "outputs": [
        {
          "output_type": "execute_result",
          "data": {
            "text/plain": [
              "12"
            ]
          },
          "metadata": {},
          "execution_count": 14
        }
      ]
    },
    {
      "cell_type": "markdown",
      "source": [
        "### `Q-9:` Arrays\n",
        "\n",
        "You are given a space separated list of numbers. Your task is to print a reversed NumPy array with the element type float.\n",
        "\n"
      ],
      "metadata": {
        "id": "9LxBAbT2Pw33"
      }
    },
    {
      "cell_type": "markdown",
      "source": [
        "**Input Format:**\n",
        "\n",
        "A single line of input containing space separated numbers.\n",
        "\n",
        "**Output Format:**\n",
        "\n",
        "Print the reverse NumPy array with type float.\n",
        "\n",
        "**Example 1:**\n",
        "\n",
        "Input:\n",
        "\n",
        "```bash\n",
        "1 2 3 4 -8 -10\n",
        "```\n",
        "\n",
        "Output:\n",
        "\n",
        "```bash\n",
        "[-10.  -8.   4.   3.   2.   1.]\n",
        "```"
      ],
      "metadata": {
        "id": "JJpqVms2Nq7L"
      }
    },
    {
      "cell_type": "code",
      "source": [
        "#Code here\n",
        "arr = [1,2,3,4,5]\n",
        "out = []\n",
        "for i in np.flip(arr):\n",
        "  out.append(float(i))\n",
        "out"
      ],
      "metadata": {
        "id": "7iQyg6ChNl3j",
        "colab": {
          "base_uri": "https://localhost:8080/"
        },
        "outputId": "8f691f42-5a81-4912-e10d-7a0dffd5b7b0"
      },
      "execution_count": null,
      "outputs": [
        {
          "output_type": "execute_result",
          "data": {
            "text/plain": [
              "[5.0, 4.0, 3.0, 2.0, 1.0]"
            ]
          },
          "metadata": {},
          "execution_count": 18
        }
      ]
    },
    {
      "cell_type": "markdown",
      "source": [
        "### `Q-10:` Elements count\n",
        "\n",
        "Count the number of elements of a numpy array.\n",
        "\n"
      ],
      "metadata": {
        "id": "TPxD7jM8Sjz9"
      }
    },
    {
      "cell_type": "markdown",
      "source": [
        "**Example 1:**\n",
        "\n",
        "Input:\n",
        "```bash\n",
        "np.array([])\n",
        "```\n",
        "\n",
        "Output:\n",
        "```bash\n",
        "elements_count :  0\n",
        "```\n",
        "\n",
        "**Example 2:**\n",
        "\n",
        "Input:\n",
        "```bash\n",
        "np.array([1, 2])\n",
        "```\n",
        "\n",
        "Output:\n",
        "```bash\n",
        "elements_count :  2\n",
        "```"
      ],
      "metadata": {
        "id": "oHTiTz_jNkAU"
      }
    },
    {
      "cell_type": "code",
      "source": [
        "#Code here\n",
        "input = [2,3,4]\n",
        "print('elements_count :',len(input))"
      ],
      "metadata": {
        "id": "RG0H2I-TNeGN",
        "colab": {
          "base_uri": "https://localhost:8080/"
        },
        "outputId": "e1c16ba7-4537-4fe1-e47a-bed2e447c2ab"
      },
      "execution_count": null,
      "outputs": [
        {
          "output_type": "stream",
          "name": "stdout",
          "text": [
            "elements_count : 3\n"
          ]
        }
      ]
    },
    {
      "cell_type": "markdown",
      "source": [
        "### `Q-11:` Softmax function\n",
        "\n",
        "Create a Python function to calculate the Softmax of the given numpy 1D array. The function only accepts the numpy 1D array, otherwise raise error.\n",
        "\n",
        "$$\\Large \\sigma(\\vec z)_i = \\frac{e^{z_i}}{\\sum_{j=i}^{K}{e^{z_j}}}$$\n",
        "\n",
        "https://en.wikipedia.org/wiki/Softmax_function\n",
        "\n"
      ],
      "metadata": {
        "id": "pwgPz-3l5ic5"
      }
    },
    {
      "cell_type": "markdown",
      "source": [
        "**Example 1:**\n",
        "\n",
        "Input:\n",
        "```bash\n",
        "[86.03331084 37.7285648  48.64908087 87.16563062 38.40852563 37.20006318]\n",
        "```\n",
        "\n",
        "Output:\n",
        "```bash\n",
        "[2.43733249e-01, 2.56112115e-22, 1.41628284e-17, 7.56266751e-01,\n",
        "       5.05514197e-22, 1.50974911e-22]\n",
        "```\n",
        "\n",
        "**Example 2:**\n",
        "\n",
        "Input:\n",
        "```bash\n",
        "[33.17344305 45.61961654 82.05405781 80.9647098  68.82830233 91.52064278]\n",
        "```\n",
        "\n",
        "Output:\n",
        "```bash\n",
        "[4.57181035e-26, 1.16249923e-20, 7.73872596e-05, 2.60358426e-05,\n",
        "       1.39571531e-10, 9.99896577e-01]\n",
        "```"
      ],
      "metadata": {
        "id": "eZ3WJt6UM1ul"
      }
    },
    {
      "cell_type": "code",
      "source": [
        "#Code here\n",
        "import numpy as np\n",
        "import math\n",
        "input_string = input()\n",
        "input_list = [float(num)for num in input_string.split()]\n",
        "denom = [math.exp(i) for i in input_list]\n",
        "output_list = []\n",
        "for i in input_list:\n",
        "  temp = (math.exp(i))/sum(denom)\n",
        "  output_list.append(temp)\n"
      ],
      "metadata": {
        "id": "VNzj05lkNaNi",
        "colab": {
          "base_uri": "https://localhost:8080/"
        },
        "outputId": "b5fe67cc-c81c-4764-9de3-dee697e468f2"
      },
      "execution_count": null,
      "outputs": [
        {
          "name": "stdout",
          "output_type": "stream",
          "text": [
            "1 2\n"
          ]
        }
      ]
    },
    {
      "cell_type": "code",
      "source": [
        "output_list"
      ],
      "metadata": {
        "colab": {
          "base_uri": "https://localhost:8080/"
        },
        "id": "KT2gxXypxvDb",
        "outputId": "5eda990f-628e-4e72-e9ad-cddbf20d8829"
      },
      "execution_count": null,
      "outputs": [
        {
          "output_type": "execute_result",
          "data": {
            "text/plain": [
              "[0.2689414213699951, 0.7310585786300049]"
            ]
          },
          "metadata": {},
          "execution_count": 4
        }
      ]
    },
    {
      "cell_type": "markdown",
      "source": [
        "### `Q-12:` Vertical stack\n",
        "\n",
        "Write a python function that accepts infinite number of numpy arrays and do the vertical stack to them. Then return that new array as result. The function only accepts the numpy array, otherwise raise error.\n",
        "\n"
      ],
      "metadata": {
        "id": "k4JWSwWu_HXg"
      }
    },
    {
      "cell_type": "markdown",
      "source": [
        "**Example 1:**\n",
        "\n",
        "Input:\n",
        "```bash\n",
        "a= [[0 1 2 3 4]\n",
        " [5 6 7 8 9]]\n",
        "\n",
        "b= [[1 1 1 1 1]\n",
        " [1 1 1 1 1]]\n",
        "```\n",
        "\n",
        "Output:\n",
        "\n",
        "```bash\n",
        "[[0 1 2 3 4]\n",
        " [5 6 7 8 9]\n",
        " [1 1 1 1 1]\n",
        " [1 1 1 1 1]]\n",
        "```\n",
        "\n",
        "**Example 2:**\n",
        "\n",
        "Input:\n",
        "```bash\n",
        "a= [[0 1 2 3 4]\n",
        " [5 6 7 8 9]]\n",
        "\n",
        "b= [[1 1 1 1 1]\n",
        " [1 1 1 1 1]]\n",
        "\n",
        "c= [[0.10117373 0.1677244  0.73764059 0.83166097 0.48985695]\n",
        " [0.44581567 0.13502419 0.55692335 0.16479622 0.61193593]]\n",
        "```\n",
        "\n",
        "Output:\n",
        "```bash\n",
        "[[0.         1.         2.         3.         4.        ]\n",
        " [5.         6.         7.         8.         9.        ]\n",
        " [1.         1.         1.         1.         1.        ]\n",
        " [1.         1.         1.         1.         1.        ]\n",
        " [0.10117373 0.1677244  0.73764059 0.83166097 0.48985695]\n",
        " [0.44581567 0.13502419 0.55692335 0.16479622 0.61193593]]\n",
        "```"
      ],
      "metadata": {
        "id": "XhhV3mraNAWr"
      }
    },
    {
      "cell_type": "code",
      "source": [
        "#Coder here\n",
        "def vertical_st(*args):\n",
        "  return [isinstance(arg,np.ndarray) for arg in args]\n",
        "  new_arr = np.vstack(args)\n",
        "  return new_arr"
      ],
      "metadata": {
        "id": "dhtnbSj6NP8z"
      },
      "execution_count": null,
      "outputs": []
    },
    {
      "cell_type": "code",
      "source": [
        "array2 = np.array([[1, 2], [3, 4]])\n",
        "not_array = [1, 2, 3]\n",
        "vertical_st(array2,not_array)"
      ],
      "metadata": {
        "colab": {
          "base_uri": "https://localhost:8080/"
        },
        "id": "B0jKB8w_0QEy",
        "outputId": "8deec685-c7e7-4183-e50b-4b1ff3dc53ae"
      },
      "execution_count": null,
      "outputs": [
        {
          "output_type": "execute_result",
          "data": {
            "text/plain": [
              "[True, False]"
            ]
          },
          "metadata": {},
          "execution_count": 6
        }
      ]
    },
    {
      "cell_type": "markdown",
      "source": [
        "### `Q-13:` Dates\n",
        "\n",
        "Create a python function named **date_array** that accepts two dates as string format and returns a numpy array of dates between those 2 dates. The function only accept 2 strings, otherwise raise error. The date format should be like this only: `2022-12-6`. The end date should be included and for simplicity, choose dates from a same year.\n",
        "\n"
      ],
      "metadata": {
        "id": "3mk8T6CuC2DP"
      }
    },
    {
      "cell_type": "markdown",
      "source": [
        "**Example 1:**\n",
        "\n",
        "Input:\n",
        "```bash\n",
        "date_array(start = '2020-09-15', end = '2020-09-25')\n",
        "```\n",
        "\n",
        "Output:\n",
        "```bash\n",
        "['2020-09-15', '2020-09-16', '2020-09-17', '2020-09-18',\n",
        " '2020-09-19', '2020-09-20', '2020-09-21', '2020-09-22',\n",
        " '2020-09-23', '2020-09-24', '2020-09-25']\n",
        "```\n",
        "\n",
        "**Example 2:**\n",
        "\n",
        "Input:\n",
        "```bash\n",
        "date_array(start = '2022-12-01', end = '2022-12-06')\n",
        "```\n",
        "\n",
        "Output:\n",
        "```bash\n",
        "['2022-12-01', '2022-12-02', '2022-12-03', '2022-12-04', '2022-12-05', '2022-12-06']\n",
        "```\n",
        "\n",
        "**Example 3:**\n",
        "\n",
        "Input:\n",
        "```bash\n",
        "date_array(start = '2020-11-25', end = '2020-11-30')\n",
        "```\n",
        "\n",
        "Output:\n",
        "```bash\n",
        "['2020-11-25', '2020-11-26', '2020-11-27', '2020-11-28',\n",
        " '2020-11-29', '2020-11-30']\n",
        "```"
      ],
      "metadata": {
        "id": "E3IgjnTTNFEk"
      }
    },
    {
      "cell_type": "code",
      "source": [
        "#Code here\n",
        "def date_array(start,end):\n",
        "  date_range = np.arange(start,end,dtype='datetime64[D]')\n",
        "  return date_range"
      ],
      "metadata": {
        "id": "Yj5PBfQQNTnL"
      },
      "execution_count": null,
      "outputs": []
    },
    {
      "cell_type": "code",
      "source": [
        "# check test case\n",
        "date_array(start = '2022-12-01', end = '2022-12-06')\n",
        "\n",
        "\n",
        "date_array(start = '2020-11-25', end = '2020-11-30')"
      ],
      "metadata": {
        "colab": {
          "base_uri": "https://localhost:8080/"
        },
        "id": "A3H0IaHlJ5pr",
        "outputId": "37a04501-a521-4cfc-e78e-046c855d0c3d"
      },
      "execution_count": null,
      "outputs": [
        {
          "output_type": "execute_result",
          "data": {
            "text/plain": [
              "array(['2020-11-25', '2020-11-26', '2020-11-27', '2020-11-28',\n",
              "       '2020-11-29'], dtype='datetime64[D]')"
            ]
          },
          "metadata": {},
          "execution_count": 10
        }
      ]
    },
    {
      "cell_type": "markdown",
      "source": [
        "###`Q-14:` Subtract the mean of each row from a matrix."
      ],
      "metadata": {
        "id": "bcEp0wTWQijK"
      }
    },
    {
      "cell_type": "code",
      "source": [
        "#code here\n",
        "mat = np.random.rand(3,4)\n",
        "mat"
      ],
      "metadata": {
        "id": "rpILVGcgQzMo",
        "colab": {
          "base_uri": "https://localhost:8080/"
        },
        "outputId": "aacbb7e8-4ee9-4b51-cec6-1eef75bd02e1"
      },
      "execution_count": null,
      "outputs": [
        {
          "output_type": "execute_result",
          "data": {
            "text/plain": [
              "array([[0.30792959, 0.32420442, 0.9129625 , 0.40866218],\n",
              "       [0.45651365, 0.88363668, 0.77751824, 0.28040124],\n",
              "       [0.57162108, 0.73419198, 0.14677893, 0.8812713 ]])"
            ]
          },
          "metadata": {},
          "execution_count": 14
        }
      ]
    },
    {
      "cell_type": "code",
      "source": [
        "mat2 = mat - np.reshape(mat.mean(axis=1),(3,1))"
      ],
      "metadata": {
        "id": "P1GMQe15KfBN"
      },
      "execution_count": null,
      "outputs": []
    },
    {
      "cell_type": "code",
      "source": [
        "mat2"
      ],
      "metadata": {
        "colab": {
          "base_uri": "https://localhost:8080/"
        },
        "id": "gAB4idGGTw2g",
        "outputId": "00b0fa3c-4d8e-4a0e-ebf5-28497803abac"
      },
      "execution_count": null,
      "outputs": [
        {
          "output_type": "execute_result",
          "data": {
            "text/plain": [
              "array([[-0.18051008, -0.16423525,  0.42452283, -0.07977749],\n",
              "       [-0.1430038 ,  0.28411923,  0.17800079, -0.31911622],\n",
              "       [-0.01184474,  0.15072615, -0.43668689,  0.29780548]])"
            ]
          },
          "metadata": {},
          "execution_count": 29
        }
      ]
    },
    {
      "cell_type": "markdown",
      "source": [
        "###`Q-15:` Swap column-1 of array with column-2 in the array."
      ],
      "metadata": {
        "id": "A-dMVlPPSBTT"
      }
    },
    {
      "cell_type": "code",
      "source": [
        "#Code here\n",
        "mat_sw = np.random.rand(3,4)"
      ],
      "metadata": {
        "id": "3RtngM9-Q6S7"
      },
      "execution_count": null,
      "outputs": []
    },
    {
      "cell_type": "code",
      "source": [
        "mat_sw"
      ],
      "metadata": {
        "colab": {
          "base_uri": "https://localhost:8080/"
        },
        "id": "FRJhF9JfUvqk",
        "outputId": "07d88b89-dc1c-495b-8538-4dad2545fe2e"
      },
      "execution_count": null,
      "outputs": [
        {
          "output_type": "execute_result",
          "data": {
            "text/plain": [
              "array([[0.61222483, 0.38573067, 0.64746328, 0.30783724],\n",
              "       [0.8196928 , 0.52315853, 0.57379612, 0.30507082],\n",
              "       [0.23724769, 0.90080798, 0.69429896, 0.08561021]])"
            ]
          },
          "metadata": {},
          "execution_count": 33
        }
      ]
    },
    {
      "cell_type": "code",
      "source": [
        "mat_sw[:,[0,1]] = mat_sw[:,[1,0]]\n",
        "mat_sw"
      ],
      "metadata": {
        "id": "ueoMV_LlSnGU",
        "colab": {
          "base_uri": "https://localhost:8080/"
        },
        "outputId": "00b7217e-090d-4734-ff5e-53d20a88e4f4"
      },
      "execution_count": null,
      "outputs": [
        {
          "output_type": "execute_result",
          "data": {
            "text/plain": [
              "array([[0.38573067, 0.61222483, 0.64746328, 0.30783724],\n",
              "       [0.52315853, 0.8196928 , 0.57379612, 0.30507082],\n",
              "       [0.90080798, 0.23724769, 0.69429896, 0.08561021]])"
            ]
          },
          "metadata": {},
          "execution_count": 34
        }
      ]
    },
    {
      "cell_type": "markdown",
      "source": [
        "###`Q-16:` Replace odd elements in arrays with -1."
      ],
      "metadata": {
        "id": "cB4VMexvS6Zi"
      }
    },
    {
      "cell_type": "code",
      "source": [
        "#Code here"
      ],
      "metadata": {
        "id": "Bt83nXEVS5O4"
      },
      "execution_count": null,
      "outputs": []
    },
    {
      "cell_type": "code",
      "source": [
        "mat_odd = np.random.randint(1,101,size=(3,4))\n",
        "mat_odd"
      ],
      "metadata": {
        "id": "1ZlvMaXLVyoW",
        "colab": {
          "base_uri": "https://localhost:8080/"
        },
        "outputId": "220f5c02-670c-45dd-e5a1-43fc2e4ea9b2"
      },
      "execution_count": null,
      "outputs": [
        {
          "output_type": "execute_result",
          "data": {
            "text/plain": [
              "array([[54, 93, 39, 84],\n",
              "       [49, 19, 76, 51],\n",
              "       [88, 19, 92, 17]])"
            ]
          },
          "metadata": {},
          "execution_count": 39
        }
      ]
    },
    {
      "cell_type": "code",
      "source": [
        "mat_odd[mat_odd%2 != 0]=-1\n",
        "mat_odd"
      ],
      "metadata": {
        "colab": {
          "base_uri": "https://localhost:8080/"
        },
        "id": "XKezNoHQU_mJ",
        "outputId": "4de75b51-3c9b-4663-aaf3-11554fe39666"
      },
      "execution_count": null,
      "outputs": [
        {
          "output_type": "execute_result",
          "data": {
            "text/plain": [
              "array([[54, -1, -1, 84],\n",
              "       [-1, -1, 76, -1],\n",
              "       [88, -1, 92, -1]])"
            ]
          },
          "metadata": {},
          "execution_count": 41
        }
      ]
    },
    {
      "cell_type": "markdown",
      "source": [
        "###`Q-17:` Given two arrays of same shape make an array of max out of two arrays. (Numpy way)\n",
        "```\n",
        "a=np.array([6,3,1,5,8])\n",
        "b=np.array([3,2,1,7,2])\n",
        "\n",
        "Result-> [6 3 1 7 8]\n",
        "```"
      ],
      "metadata": {
        "id": "kf_qvmBxWIT_"
      }
    },
    {
      "cell_type": "code",
      "source": [
        "#Code here"
      ],
      "metadata": {
        "id": "TB9ZvF-EZSfu"
      },
      "execution_count": null,
      "outputs": []
    },
    {
      "cell_type": "code",
      "source": [
        "a=np.array([6,3,1,5,8])\n",
        "b=np.array([3,2,1,7,2])\n",
        "out_arr = []\n",
        "for i in range(len(a)):\n",
        "  if a[i]>=b[i]:\n",
        "    out_arr.append(a[i])\n",
        "  else:\n",
        "    out_arr.append(b[i])\n",
        "\n"
      ],
      "metadata": {
        "id": "D7ad-A6jZzCL"
      },
      "execution_count": 4,
      "outputs": []
    },
    {
      "cell_type": "code",
      "source": [
        "out_arr"
      ],
      "metadata": {
        "colab": {
          "base_uri": "https://localhost:8080/"
        },
        "id": "v26JxGKXmpyf",
        "outputId": "fd82ac74-eb6f-475b-a45d-953f5a9a9f65"
      },
      "execution_count": 5,
      "outputs": [
        {
          "output_type": "execute_result",
          "data": {
            "text/plain": [
              "[6, 3, 1, 7, 8]"
            ]
          },
          "metadata": {},
          "execution_count": 5
        }
      ]
    },
    {
      "cell_type": "markdown",
      "source": [
        "###`Q-18` Answer below asked questions on given array:\n",
        "1. Fetch Every alternate column of the array\n",
        "2. Normalise the given array\n",
        "\n",
        "https://en.wikipedia.org/wiki/Normalization_(statistics)\n",
        "\n",
        "There are different form of normalisation for this question use below formula.\n",
        "\n",
        "$$\\large X_{normalized} = \\frac{X - X_{min}}{X_{max} - X_{min}}$$\n",
        "\n",
        "```python\n",
        "arr1=np.random.randint(low=1, high=10000, size=40).reshape(8,5)\n",
        "```\n"
      ],
      "metadata": {
        "id": "iOQLUIeGc3zA"
      }
    },
    {
      "cell_type": "code",
      "source": [
        "# Given\n",
        "arr1=np.random.randint(low=1, high=10000, size=40).reshape(8,5)\n",
        "arr1"
      ],
      "metadata": {
        "colab": {
          "base_uri": "https://localhost:8080/"
        },
        "id": "vjSm18k3d_1p",
        "outputId": "76ff47aa-7db1-4b6e-eb19-c35f2c874165"
      },
      "execution_count": 6,
      "outputs": [
        {
          "output_type": "execute_result",
          "data": {
            "text/plain": [
              "array([[1568, 7548, 8069, 1006, 6887],\n",
              "       [8271, 5250, 7052, 6529,  817],\n",
              "       [2010, 6025,  937,  954, 4554],\n",
              "       [4730, 3486, 4672, 5201,  205],\n",
              "       [ 619, 5832, 3782, 4254,  619],\n",
              "       [5623, 7789, 8118, 4979, 1692],\n",
              "       [1555, 3828, 5758, 1467, 7407],\n",
              "       [2613, 9669, 4907, 4300, 9622]])"
            ]
          },
          "metadata": {},
          "execution_count": 6
        }
      ]
    },
    {
      "cell_type": "code",
      "source": [
        "#Code here\n",
        "arr1 = arr1-np.min(arr1)/(np.max(arr1)-np.min(arr1))\n",
        "arr1"
      ],
      "metadata": {
        "id": "d7u8DB47eBfQ",
        "colab": {
          "base_uri": "https://localhost:8080/"
        },
        "outputId": "fbdb3530-c8aa-4029-d44f-aec8aa84f4d2"
      },
      "execution_count": 8,
      "outputs": [
        {
          "output_type": "execute_result",
          "data": {
            "text/plain": [
              "array([[1567.97833897, 7547.97833897, 8068.97833897, 1005.97833897,\n",
              "        6886.97833897],\n",
              "       [8270.97833897, 5249.97833897, 7051.97833897, 6528.97833897,\n",
              "         816.97833897],\n",
              "       [2009.97833897, 6024.97833897,  936.97833897,  953.97833897,\n",
              "        4553.97833897],\n",
              "       [4729.97833897, 3485.97833897, 4671.97833897, 5200.97833897,\n",
              "         204.97833897],\n",
              "       [ 618.97833897, 5831.97833897, 3781.97833897, 4253.97833897,\n",
              "         618.97833897],\n",
              "       [5622.97833897, 7788.97833897, 8117.97833897, 4978.97833897,\n",
              "        1691.97833897],\n",
              "       [1554.97833897, 3827.97833897, 5757.97833897, 1466.97833897,\n",
              "        7406.97833897],\n",
              "       [2612.97833897, 9668.97833897, 4906.97833897, 4299.97833897,\n",
              "        9621.97833897]])"
            ]
          },
          "metadata": {},
          "execution_count": 8
        }
      ]
    },
    {
      "cell_type": "markdown",
      "source": [
        "###`Q-19:` Write a function which will accept 2 arguments.\n",
        "First: A 1D numpy array arr\n",
        "\n",
        "Second: An integer n {Please make sure n<=len(arr)}\n",
        "\n",
        "Output: The output should be the nth largest item out of the array\n",
        "```\n",
        "# Example1 : arr=(12,34,40,7,1,0) and n=3, the output should be 12\n",
        "# Example2 : arr=(12,34,40,7,1,0) and n=1, the output should be 40\n",
        "```"
      ],
      "metadata": {
        "id": "jCzsVEKLgGNo"
      }
    },
    {
      "cell_type": "code",
      "source": [
        "#Code here\n",
        "def custom_largn(arr,pos):\n",
        "  if pos <= len(arr):\n",
        "    pass\n",
        "  else:\n",
        "    print('the postion is larger than the total length of array')\n",
        "  return np.sort([pos-1])"
      ],
      "metadata": {
        "id": "J4AzkDk7gXSG"
      },
      "execution_count": 10,
      "outputs": []
    },
    {
      "cell_type": "code",
      "source": [
        "arr = (12,34,40,7,1,0)\n",
        "custom_largn(arr,3)"
      ],
      "metadata": {
        "colab": {
          "base_uri": "https://localhost:8080/"
        },
        "id": "7T1UagncofM8",
        "outputId": "74b67c41-7be5-473b-c061-cf22f2d418a9"
      },
      "execution_count": 11,
      "outputs": [
        {
          "output_type": "execute_result",
          "data": {
            "text/plain": [
              "array([2])"
            ]
          },
          "metadata": {},
          "execution_count": 11
        }
      ]
    },
    {
      "cell_type": "markdown",
      "source": [
        "###`Q-20:` Create the following pattern without hardcoding. Use only numpy functions and the below input array a.\n",
        "```\n",
        "# Input: a = np.array([1,2,3])\n",
        "# Output: array([1, 1, 1, 2, 2, 2, 3, 3, 3, 1, 2, 3, 1, 2, 3, 1, 2, 3])\n",
        "```"
      ],
      "metadata": {
        "id": "ja0xPCgjhBsg"
      }
    },
    {
      "cell_type": "code",
      "source": [
        "#code here\n",
        "a = np.array([1,2,3])\n",
        "total_len = len(a)\n",
        "np.tile(a,total_len)"
      ],
      "metadata": {
        "id": "CndS8TTNhG0F",
        "colab": {
          "base_uri": "https://localhost:8080/"
        },
        "outputId": "219d0fb0-b49b-4343-a47c-2cfabd225836"
      },
      "execution_count": 18,
      "outputs": [
        {
          "output_type": "execute_result",
          "data": {
            "text/plain": [
              "array([1, 2, 3, 1, 2, 3, 1, 2, 3])"
            ]
          },
          "metadata": {},
          "execution_count": 18
        }
      ]
    },
    {
      "cell_type": "code",
      "source": [
        "np.repeat(a,total_len)"
      ],
      "metadata": {
        "colab": {
          "base_uri": "https://localhost:8080/"
        },
        "id": "G7zop9EHqkuw",
        "outputId": "5ed6d876-4e53-447c-df95-5a0174acd584"
      },
      "execution_count": 19,
      "outputs": [
        {
          "output_type": "execute_result",
          "data": {
            "text/plain": [
              "array([1, 1, 1, 2, 2, 2, 3, 3, 3])"
            ]
          },
          "metadata": {},
          "execution_count": 19
        }
      ]
    },
    {
      "cell_type": "code",
      "source": [
        "output_arr = np.concatenate((np.repeat(a,total_len),np.tile(a,total_len)))\n",
        "output_arr"
      ],
      "metadata": {
        "colab": {
          "base_uri": "https://localhost:8080/"
        },
        "id": "1rOBarSZyZ8e",
        "outputId": "ea348226-fcdf-4e0a-b475-e2c8861032f0"
      },
      "execution_count": 20,
      "outputs": [
        {
          "output_type": "execute_result",
          "data": {
            "text/plain": [
              "array([1, 1, 1, 2, 2, 2, 3, 3, 3, 1, 2, 3, 1, 2, 3, 1, 2, 3])"
            ]
          },
          "metadata": {},
          "execution_count": 20
        }
      ]
    },
    {
      "cell_type": "code",
      "source": [],
      "metadata": {
        "id": "eHhirhZBypQc"
      },
      "execution_count": null,
      "outputs": []
    }
  ]
}