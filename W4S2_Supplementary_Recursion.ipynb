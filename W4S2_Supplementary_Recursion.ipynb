{
  "nbformat": 4,
  "nbformat_minor": 0,
  "metadata": {
    "colab": {
      "provenance": [],
      "include_colab_link": true
    },
    "kernelspec": {
      "name": "python3",
      "display_name": "Python 3"
    },
    "language_info": {
      "name": "python"
    }
  },
  "cells": [
    {
      "cell_type": "markdown",
      "metadata": {
        "id": "view-in-github",
        "colab_type": "text"
      },
      "source": [
        "<a href=\"https://colab.research.google.com/github/mmilannaik/bostonhousepricing/blob/main/W4S2_Supplementary_Recursion.ipynb\" target=\"_parent\"><img src=\"https://colab.research.google.com/assets/colab-badge.svg\" alt=\"Open In Colab\"/></a>"
      ]
    },
    {
      "cell_type": "markdown",
      "source": [
        "# Recursion"
      ],
      "metadata": {
        "id": "oAp_rO_GA5NU"
      }
    },
    {
      "cell_type": "markdown",
      "source": [
        "## Multiply"
      ],
      "metadata": {
        "id": "y-tWaIgyDblF"
      }
    },
    {
      "cell_type": "code",
      "source": [
        "def multiply(a,b):\n",
        "  result = 0\n",
        "  for i in range(b):\n",
        "    result = result + a\n",
        "  return result"
      ],
      "metadata": {
        "id": "q19DGPiwA4uD"
      },
      "execution_count": 1,
      "outputs": []
    },
    {
      "cell_type": "code",
      "source": [
        "multiply(3,4)"
      ],
      "metadata": {
        "colab": {
          "base_uri": "https://localhost:8080/"
        },
        "id": "unxF_0NfA4rj",
        "outputId": "7536d50f-1a71-4b7d-aa5a-c9df5ce1ab6a"
      },
      "execution_count": 3,
      "outputs": [
        {
          "output_type": "execute_result",
          "data": {
            "text/plain": [
              "12"
            ]
          },
          "metadata": {},
          "execution_count": 3
        }
      ]
    },
    {
      "cell_type": "code",
      "source": [
        "## Recursion\n",
        "def mul(a,b):\n",
        "  if b==1:\n",
        "    return a\n",
        "  else:\n",
        "    return a + mul(a,b-1)"
      ],
      "metadata": {
        "id": "roIi-yyUBXN8"
      },
      "execution_count": 4,
      "outputs": []
    },
    {
      "cell_type": "code",
      "source": [
        "mul(5,6)"
      ],
      "metadata": {
        "colab": {
          "base_uri": "https://localhost:8080/"
        },
        "id": "kpvbZMGDCSLT",
        "outputId": "3e3de46d-32e8-4a0b-e528-edc35fcca55e"
      },
      "execution_count": 5,
      "outputs": [
        {
          "output_type": "execute_result",
          "data": {
            "text/plain": [
              "30"
            ]
          },
          "metadata": {},
          "execution_count": 5
        }
      ]
    },
    {
      "cell_type": "markdown",
      "source": [
        "## Factorial"
      ],
      "metadata": {
        "id": "mJhiC3WcDepP"
      }
    },
    {
      "cell_type": "code",
      "source": [
        "def fact(n):\n",
        "  if n==1:\n",
        "    return 1\n",
        "  else:\n",
        "    return n * fact(n-1)"
      ],
      "metadata": {
        "id": "fcc2tiyvCTbB"
      },
      "execution_count": 6,
      "outputs": []
    },
    {
      "cell_type": "code",
      "source": [
        "fact(6)"
      ],
      "metadata": {
        "colab": {
          "base_uri": "https://localhost:8080/"
        },
        "id": "boe57WG0DrWo",
        "outputId": "b3661b91-7299-435a-a567-7a81ec715bdd"
      },
      "execution_count": 7,
      "outputs": [
        {
          "output_type": "execute_result",
          "data": {
            "text/plain": [
              "720"
            ]
          },
          "metadata": {},
          "execution_count": 7
        }
      ]
    },
    {
      "cell_type": "markdown",
      "source": [
        "## Palin"
      ],
      "metadata": {
        "id": "SH-kTgQfFjcs"
      }
    },
    {
      "cell_type": "code",
      "source": [
        "def palin(text):\n",
        "  if len(text)<=1:\n",
        "    print('it is a palindrome')\n",
        "  else:\n",
        "    if text[0]==text[-1]:\n",
        "      palin(text[1:-1])\n",
        "    else:\n",
        "      print('it is not a palindrome')\n"
      ],
      "metadata": {
        "id": "bgMogA_0Dsy3"
      },
      "execution_count": 10,
      "outputs": []
    },
    {
      "cell_type": "code",
      "source": [
        "palin('madam')\n",
        "palin('python')\n",
        "palin('abba')\n",
        "palin('malayalam')"
      ],
      "metadata": {
        "colab": {
          "base_uri": "https://localhost:8080/"
        },
        "id": "dRyliXrjGCLd",
        "outputId": "b2d5537d-c537-4465-f34a-f90ecc599277"
      },
      "execution_count": 11,
      "outputs": [
        {
          "output_type": "stream",
          "name": "stdout",
          "text": [
            "it is a palindrome\n",
            "it is not a palindrome\n",
            "it is a palindrome\n",
            "it is a palindrome\n"
          ]
        }
      ]
    },
    {
      "cell_type": "markdown",
      "source": [
        "## Fibo"
      ],
      "metadata": {
        "id": "gKQvVrJ2NSkv"
      }
    },
    {
      "cell_type": "code",
      "source": [
        "# this is higly inefficient code, for every fibo naci it will take two fib, total time complexity : 2^n\n",
        "def fib(m):\n",
        "  if m==0 or m==1:\n",
        "    return 1\n",
        "  else:\n",
        "    return fib(m-1)+fib(m-2)"
      ],
      "metadata": {
        "id": "k6oIszRAGFlb"
      },
      "execution_count": 12,
      "outputs": []
    },
    {
      "cell_type": "code",
      "source": [
        "# efficient code is to use the memory\n",
        "def memo(m,d):\n",
        "  if m in d:\n",
        "    return d[m]\n",
        "  else:\n",
        "    d[m] = memo(m-1,d)+memo(m-2,d)\n",
        "    return d[m]"
      ],
      "metadata": {
        "id": "cx5KAHkPNs5B"
      },
      "execution_count": 15,
      "outputs": []
    },
    {
      "cell_type": "code",
      "source": [
        "d = {0:1,1:1}\n",
        "print(memo(500,d))"
      ],
      "metadata": {
        "colab": {
          "base_uri": "https://localhost:8080/"
        },
        "id": "5p1RY9i8aj59",
        "outputId": "0791ff90-c761-4f92-ae39-7ba9136b90ab"
      },
      "execution_count": 16,
      "outputs": [
        {
          "output_type": "stream",
          "name": "stdout",
          "text": [
            "225591516161936330872512695036072072046011324913758190588638866418474627738686883405015987052796968498626\n"
          ]
        }
      ]
    },
    {
      "cell_type": "code",
      "source": [],
      "metadata": {
        "id": "OruVbpx-arM9"
      },
      "execution_count": null,
      "outputs": []
    }
  ]
}