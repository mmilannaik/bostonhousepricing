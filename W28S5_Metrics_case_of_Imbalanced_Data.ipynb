{
  "nbformat": 4,
  "nbformat_minor": 0,
  "metadata": {
    "colab": {
      "provenance": [],
      "include_colab_link": true
    },
    "kernelspec": {
      "name": "python3",
      "display_name": "Python 3"
    },
    "language_info": {
      "name": "python"
    }
  },
  "cells": [
    {
      "cell_type": "markdown",
      "metadata": {
        "id": "view-in-github",
        "colab_type": "text"
      },
      "source": [
        "<a href=\"https://colab.research.google.com/github/mmilannaik/bostonhousepricing/blob/main/W28S5_Metrics_case_of_Imbalanced_Data.ipynb\" target=\"_parent\"><img src=\"https://colab.research.google.com/assets/colab-badge.svg\" alt=\"Open In Colab\"/></a>"
      ]
    },
    {
      "cell_type": "markdown",
      "source": [
        "## Metrics in case of Imbalanced Data"
      ],
      "metadata": {
        "id": "S-beJ3lxktc_"
      }
    },
    {
      "cell_type": "markdown",
      "source": [
        " Accuracy score can be misleading in the context of imbalanced data because it does not provide a complete picture of the model's performance. In imbalanced datasets, where one class is significantly more prevalent than the others, a model that simply predicts the majority class for every instance can achieve a high accuracy score. However, this does not indicate that the model is effective in identifying the minority class or capturing the true underlying patterns in the data.\n",
        "\n",
        "Consider an example where you have a dataset with 95% of instances belonging to class A and only 5% belonging to class B. If you train a model that always predicts class A, you will achieve 95% accuracy. However, this model completely fails to detect instances of class B, which may be the more critical class in certain applications, such as fraud detection or medical diagnosis.\n",
        "\n",
        " > Let's consider an example to demonstrate how accuracy can be unreliable in the context of imbalanced data. We'll use the popular scikit-learn library to build and evaluate a binary classification model.\n",
        "\n",
        " > In this example, we create an imbalanced dataset with 950 instances of the majority class (class 0) and only 50 instances of the minority class (class 1). We then split the data into training and testing sets, train a logistic regression model, and make predictions on the test set. Finally, we calculate and print various evaluation metrics."
      ],
      "metadata": {
        "id": "OfT-pKcoip3O"
      }
    },
    {
      "cell_type": "code",
      "execution_count": null,
      "metadata": {
        "colab": {
          "base_uri": "https://localhost:8080/",
          "height": 596
        },
        "id": "l3aqFrRBhV51",
        "outputId": "29df8e24-9443-4711-d2d3-dd9fa88b6c85"
      },
      "outputs": [
        {
          "output_type": "stream",
          "name": "stderr",
          "text": [
            "/usr/local/lib/python3.10/dist-packages/sklearn/metrics/_classification.py:1344: UndefinedMetricWarning: Precision is ill-defined and being set to 0.0 due to no predicted samples. Use `zero_division` parameter to control this behavior.\n",
            "  _warn_prf(average, modifier, msg_start, len(result))\n"
          ]
        },
        {
          "output_type": "display_data",
          "data": {
            "text/plain": [
              "<Figure size 640x480 with 2 Axes>"
            ],
            "image/png": "[encoded data removed]"
          },
          "metadata": {}
        },
        {
          "output_type": "stream",
          "name": "stdout",
          "text": [
            "Accuracy: 0.95\n",
            "Precision: 0.00\n",
            "Recall: 0.00\n",
            "F1-Score: 0.00\n"
          ]
        }
      ],
      "source": [
        "import numpy as np\n",
        "from sklearn.model_selection import train_test_split\n",
        "from sklearn.linear_model import LogisticRegression\n",
        "from sklearn.metrics import accuracy_score, precision_score, recall_score, f1_score\n",
        "from sklearn.metrics import confusion_matrix\n",
        "import seaborn as sns\n",
        "import matplotlib.pyplot as plt\n",
        "\n",
        "\n",
        "\n",
        "# Generate imbalanced data\n",
        "X = np.random.randn(1000, 5)  # Features\n",
        "y = np.concatenate([np.zeros(950), np.ones(50)])  # Imbalanced target variable\n",
        "\n",
        "# Split data into train and test sets\n",
        "X_train, X_test, y_train, y_test = train_test_split(X, y, test_size=0.2, random_state=42)\n",
        "\n",
        "# Train logistic regression model\n",
        "model = LogisticRegression()\n",
        "model.fit(X_train, y_train)\n",
        "\n",
        "# Make predictions\n",
        "y_pred = model.predict(X_test)\n",
        "\n",
        "# Calculate evaluation metrics\n",
        "accuracy = accuracy_score(y_test, y_pred)\n",
        "\n",
        "cm = confusion_matrix(y_test, y_pred)\n",
        "\n",
        "\n",
        "precision = precision_score(y_test, y_pred)\n",
        "recall = recall_score(y_test, y_pred)\n",
        "f1 = f1_score(y_test, y_pred)\n",
        "\n",
        "# Print the metrics\n",
        "# Visualize confusion matrix\n",
        "labels = ['Class 0', 'Class 1']\n",
        "sns.heatmap(cm, annot=True, fmt='d', cmap='Blues', xticklabels=labels, yticklabels=labels)\n",
        "plt.xlabel('Predicted')\n",
        "plt.ylabel('True')\n",
        "plt.title('Confusion Matrix')\n",
        "plt.show()\n",
        "\n",
        "print(f\"Accuracy: {accuracy:.2f}\")\n",
        "\n",
        "print(f\"Precision: {precision:.2f}\")\n",
        "print(f\"Recall: {recall:.2f}\")\n",
        "print(f\"F1-Score: {f1:.2f}\")\n"
      ]
    },
    {
      "cell_type": "markdown",
      "source": [
        "If we run this code, we may observe misleading results in terms of accuracy due to the imbalanced nature of the data. The model may perform well in predicting the majority class but struggle to identify instances of the minority class.\n",
        "\n",
        "\n",
        "Despite achieving a high accuracy of **0.95**, *none of the instances of the minority class (class 1) were correctly predicted*. The precision, recall, and F1-score for class 1 are all 0, indicating poor performance in capturing the minority class.\n",
        "\n",
        "This example highlights how accuracy can be misleading in imbalanced datasets. It is crucial to consider additional evaluation metrics like precision, recall, and F1-score, which provide a more comprehensive understanding of the model's performance, particularly for the minority class."
      ],
      "metadata": {
        "id": "wJC55IVIi5kj"
      }
    },
    {
      "cell_type": "markdown",
      "source": [
        "# Happy Learning !"
      ],
      "metadata": {
        "id": "BzMZKqTzlLe4"
      }
    }
  ]
}