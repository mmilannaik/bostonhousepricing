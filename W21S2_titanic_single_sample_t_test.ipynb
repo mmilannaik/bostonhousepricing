{
  "metadata": {
    "kernelspec": {
      "language": "python",
      "display_name": "Python 3",
      "name": "python3"
    },
    "language_info": {
      "pygments_lexer": "ipython3",
      "nbconvert_exporter": "python",
      "version": "3.6.4",
      "file_extension": ".py",
      "codemirror_mode": {
        "name": "ipython",
        "version": 3
      },
      "name": "python",
      "mimetype": "text/x-python"
    },
    "colab": {
      "name": "titanic-single-sample-t-test",
      "provenance": [],
      "include_colab_link": true
    }
  },
  "nbformat_minor": 0,
  "nbformat": 4,
  "cells": [
    {
      "cell_type": "markdown",
      "metadata": {
        "id": "view-in-github",
        "colab_type": "text"
      },
      "source": [
        "<a href=\"https://colab.research.google.com/github/mmilannaik/bostonhousepricing/blob/main/W21S2_titanic_single_sample_t_test.ipynb\" target=\"_parent\"><img src=\"https://colab.research.google.com/assets/colab-badge.svg\" alt=\"Open In Colab\"/></a>"
      ]
    },
    {
      "source": [
        "\n",
        "# IMPORTANT: RUN THIS CELL IN ORDER TO IMPORT YOUR KAGGLE DATA SOURCES\n",
        "# TO THE CORRECT LOCATION (/kaggle/input) IN YOUR NOTEBOOK,\n",
        "# THEN FEEL FREE TO DELETE THIS CELL.\n",
        "# NOTE: THIS NOTEBOOK ENVIRONMENT DIFFERS FROM KAGGLE'S PYTHON\n",
        "# ENVIRONMENT SO THERE MAY BE MISSING LIBRARIES USED BY YOUR\n",
        "# NOTEBOOK.\n",
        "\n",
        "import os\n",
        "import sys\n",
        "from tempfile import NamedTemporaryFile\n",
        "from urllib.request import urlopen\n",
        "from urllib.parse import unquote, urlparse\n",
        "from urllib.error import HTTPError\n",
        "from zipfile import ZipFile\n",
        "import tarfile\n",
        "import shutil\n",
        "\n",
        "CHUNK_SIZE = 40960\n",
        "DATA_SOURCE_MAPPING = 'titanic:https%3A%2F%2Fstorage.googleapis.com%2Fkaggle-competitions-data%2Fkaggle-v2%2F3136%2F26502%2Fbundle%2Farchive.zip%3FX-Goog-Algorithm%3DGOOG4-RSA-SHA256%26X-Goog-Credential%3Dgcp-kaggle-com%2540kaggle-161607.iam.gserviceaccount.com%252F20240705%252Fauto%252Fstorage%252Fgoog4_request%26X-Goog-Date%3D20240705T064037Z%26X-Goog-Expires%3D259200%26X-Goog-SignedHeaders%3Dhost%26X-Goog-Signature%3D234c8008656aeb5b2bfb56ada81b4efdee03ebdef1c9c1600f1b28704ae551fbdf0304045ea93c5705409e3a3fad9ba0e35e9fc2513a83b38d0010c6b92191e515eaa82ba5ded040a0cba50c5eea917bc62e54eefc4421cf7b132fac1861db324d157358e37b6bb8653949110ea8dd4cb62ceab9e48fd5d5eb36f1b5636221ce0f8e8f109ae7f3de19ca692f85dbd1ffe853883af36c477a5374008d2433b424ac46c06617c7cdd7cc052998002dd468cfbb6f2a821390635fbcbf2256cc1187f05a7140625bb93570c7a78bb2e1c53ef259ed66c09647535258d7e110b39160e9107e544d1c8efa2fc40b3e8129c8bf12c37fda00293a43abd636e49cbd1579'\n",
        "\n",
        "KAGGLE_INPUT_PATH='/kaggle/input'\n",
        "KAGGLE_WORKING_PATH='/kaggle/working'\n",
        "KAGGLE_SYMLINK='kaggle'\n",
        "\n",
        "!umount /kaggle/input/ 2> /dev/null\n",
        "shutil.rmtree('/kaggle/input', ignore_errors=True)\n",
        "os.makedirs(KAGGLE_INPUT_PATH, 0o777, exist_ok=True)\n",
        "os.makedirs(KAGGLE_WORKING_PATH, 0o777, exist_ok=True)\n",
        "\n",
        "try:\n",
        "  os.symlink(KAGGLE_INPUT_PATH, os.path.join(\"..\", 'input'), target_is_directory=True)\n",
        "except FileExistsError:\n",
        "  pass\n",
        "try:\n",
        "  os.symlink(KAGGLE_WORKING_PATH, os.path.join(\"..\", 'working'), target_is_directory=True)\n",
        "except FileExistsError:\n",
        "  pass\n",
        "\n",
        "for data_source_mapping in DATA_SOURCE_MAPPING.split(','):\n",
        "    directory, download_url_encoded = data_source_mapping.split(':')\n",
        "    download_url = unquote(download_url_encoded)\n",
        "    filename = urlparse(download_url).path\n",
        "    destination_path = os.path.join(KAGGLE_INPUT_PATH, directory)\n",
        "    try:\n",
        "        with urlopen(download_url) as fileres, NamedTemporaryFile() as tfile:\n",
        "            total_length = fileres.headers['content-length']\n",
        "            print(f'Downloading {directory}, {total_length} bytes compressed')\n",
        "            dl = 0\n",
        "            data = fileres.read(CHUNK_SIZE)\n",
        "            while len(data) > 0:\n",
        "                dl += len(data)\n",
        "                tfile.write(data)\n",
        "                done = int(50 * dl / int(total_length))\n",
        "                sys.stdout.write(f\"\\r[{'=' * done}{' ' * (50-done)}] {dl} bytes downloaded\")\n",
        "                sys.stdout.flush()\n",
        "                data = fileres.read(CHUNK_SIZE)\n",
        "            if filename.endswith('.zip'):\n",
        "              with ZipFile(tfile) as zfile:\n",
        "                zfile.extractall(destination_path)\n",
        "            else:\n",
        "              with tarfile.open(tfile.name) as tarfile:\n",
        "                tarfile.extractall(destination_path)\n",
        "            print(f'\\nDownloaded and uncompressed: {directory}')\n",
        "    except HTTPError as e:\n",
        "        print(f'Failed to load (likely expired) {download_url} to path {destination_path}')\n",
        "        continue\n",
        "    except OSError as e:\n",
        "        print(f'Failed to load {download_url} to path {destination_path}')\n",
        "        continue\n",
        "\n",
        "print('Data source import complete.')\n"
      ],
      "metadata": {
        "id": "Ge4ExWzon6To",
        "outputId": "67bbe29d-9364-4ec4-ca68-ccb9535d7a95",
        "colab": {
          "base_uri": "https://localhost:8080/"
        }
      },
      "cell_type": "code",
      "outputs": [
        {
          "output_type": "stream",
          "name": "stdout",
          "text": [
            "Downloading titanic, 34877 bytes compressed\n",
            "\r[==================================================] 34877 bytes downloaded\n",
            "Downloaded and uncompressed: titanic\n",
            "Data source import complete.\n"
          ]
        }
      ],
      "execution_count": 1
    },
    {
      "cell_type": "code",
      "source": [
        "# This Python 3 environment comes with many helpful analytics libraries installed\n",
        "# It is defined by the kaggle/python Docker image: https://github.com/kaggle/docker-python\n",
        "# For example, here's several helpful packages to load\n",
        "\n",
        "import numpy as np # linear algebra\n",
        "import pandas as pd # data processing, CSV file I/O (e.g. pd.read_csv)\n",
        "\n",
        "# Input data files are available in the read-only \"../input/\" directory\n",
        "# For example, running this (by clicking run or pressing Shift+Enter) will list all files under the input directory\n",
        "\n",
        "import os\n",
        "for dirname, _, filenames in os.walk('/kaggle/input'):\n",
        "    for filename in filenames:\n",
        "        print(os.path.join(dirname, filename))\n",
        "\n",
        "# You can write up to 20GB to the current directory (/kaggle/working/) that gets preserved as output when you create a version using \"Save & Run All\"\n",
        "# You can also write temporary files to /kaggle/temp/, but they won't be saved outside of the current session"
      ],
      "metadata": {
        "_uuid": "8f2839f25d086af736a60e9eeb907d3b93b6e0e5",
        "_cell_guid": "b1076dfc-b9ad-4769-8c92-a6c4dae69d19",
        "execution": {
          "iopub.status.busy": "2023-04-06T15:49:54.723923Z",
          "iopub.execute_input": "2023-04-06T15:49:54.724356Z",
          "iopub.status.idle": "2023-04-06T15:49:54.736461Z",
          "shell.execute_reply.started": "2023-04-06T15:49:54.724316Z",
          "shell.execute_reply": "2023-04-06T15:49:54.73502Z"
        },
        "trusted": true,
        "id": "1Z1viIMan6Tw",
        "outputId": "a8b2d0b8-bce4-414e-9c29-bab7ea2b4853",
        "colab": {
          "base_uri": "https://localhost:8080/"
        }
      },
      "execution_count": 2,
      "outputs": [
        {
          "output_type": "stream",
          "name": "stdout",
          "text": [
            "/kaggle/input/titanic/gender_submission.csv\n",
            "/kaggle/input/titanic/test.csv\n",
            "/kaggle/input/titanic/train.csv\n"
          ]
        }
      ]
    },
    {
      "cell_type": "code",
      "source": [
        "train = pd.read_csv('/kaggle/input/titanic/train.csv').drop(columns=['Survived'])\n",
        "test = pd.read_csv('/kaggle/input/titanic/test.csv')"
      ],
      "metadata": {
        "execution": {
          "iopub.status.busy": "2023-04-06T15:49:57.735474Z",
          "iopub.execute_input": "2023-04-06T15:49:57.735881Z",
          "iopub.status.idle": "2023-04-06T15:49:57.775532Z",
          "shell.execute_reply.started": "2023-04-06T15:49:57.735847Z",
          "shell.execute_reply": "2023-04-06T15:49:57.774266Z"
        },
        "trusted": true,
        "id": "CeGT6LWOn6Ty"
      },
      "execution_count": 3,
      "outputs": []
    },
    {
      "cell_type": "code",
      "source": [
        "final_df = pd.concat([train,test]).sample(1309)"
      ],
      "metadata": {
        "execution": {
          "iopub.status.busy": "2023-04-06T15:49:58.529778Z",
          "iopub.execute_input": "2023-04-06T15:49:58.530447Z",
          "iopub.status.idle": "2023-04-06T15:49:58.551427Z",
          "shell.execute_reply.started": "2023-04-06T15:49:58.530383Z",
          "shell.execute_reply": "2023-04-06T15:49:58.548981Z"
        },
        "trusted": true,
        "id": "DT13LCNfn6Ty"
      },
      "execution_count": 4,
      "outputs": []
    },
    {
      "cell_type": "code",
      "source": [
        "pop = final_df['Age'].dropna()"
      ],
      "metadata": {
        "execution": {
          "iopub.status.busy": "2023-04-06T15:49:59.531404Z",
          "iopub.execute_input": "2023-04-06T15:49:59.532648Z",
          "iopub.status.idle": "2023-04-06T15:49:59.540814Z",
          "shell.execute_reply.started": "2023-04-06T15:49:59.532508Z",
          "shell.execute_reply": "2023-04-06T15:49:59.539491Z"
        },
        "trusted": true,
        "id": "AKQVH5YNn6Tz"
      },
      "execution_count": 5,
      "outputs": []
    },
    {
      "cell_type": "code",
      "source": [
        "pop.mean()"
      ],
      "metadata": {
        "execution": {
          "iopub.status.busy": "2023-04-06T15:50:11.378984Z",
          "iopub.execute_input": "2023-04-06T15:50:11.37939Z",
          "iopub.status.idle": "2023-04-06T15:50:11.388343Z",
          "shell.execute_reply.started": "2023-04-06T15:50:11.379356Z",
          "shell.execute_reply": "2023-04-06T15:50:11.387006Z"
        },
        "trusted": true,
        "id": "Pk0DQG3zn6Tz",
        "outputId": "aaadf909-9785-4ba1-dba1-22184648f998",
        "colab": {
          "base_uri": "https://localhost:8080/"
        }
      },
      "execution_count": 6,
      "outputs": [
        {
          "output_type": "execute_result",
          "data": {
            "text/plain": [
              "29.881137667304014"
            ]
          },
          "metadata": {},
          "execution_count": 6
        }
      ]
    },
    {
      "cell_type": "code",
      "source": [
        "sample_age = pop.sample(25).values"
      ],
      "metadata": {
        "execution": {
          "iopub.status.busy": "2023-04-06T12:42:18.426948Z",
          "iopub.execute_input": "2023-04-06T12:42:18.427562Z",
          "iopub.status.idle": "2023-04-06T12:42:18.434332Z",
          "shell.execute_reply.started": "2023-04-06T12:42:18.427509Z",
          "shell.execute_reply": "2023-04-06T12:42:18.433004Z"
        },
        "trusted": true,
        "id": "994A5b7Wn6T0"
      },
      "execution_count": 15,
      "outputs": []
    },
    {
      "cell_type": "code",
      "source": [
        "sample_age"
      ],
      "metadata": {
        "execution": {
          "iopub.status.busy": "2023-04-06T12:42:19.632613Z",
          "iopub.execute_input": "2023-04-06T12:42:19.633958Z",
          "iopub.status.idle": "2023-04-06T12:42:19.643336Z",
          "shell.execute_reply.started": "2023-04-06T12:42:19.633896Z",
          "shell.execute_reply": "2023-04-06T12:42:19.641882Z"
        },
        "trusted": true,
        "id": "W6q9l7PTn6T1",
        "outputId": "3f43a984-8055-44e4-a238-5fe020ec56ff",
        "colab": {
          "base_uri": "https://localhost:8080/"
        }
      },
      "execution_count": 16,
      "outputs": [
        {
          "output_type": "execute_result",
          "data": {
            "text/plain": [
              "array([28.  , 33.  , 21.  , 51.  ,  0.75,  8.  , 20.  , 34.  ,  6.  ,\n",
              "       24.  , 17.  , 15.  , 62.  , 48.  , 34.5 , 45.  , 34.  ,  2.  ,\n",
              "       22.  ,  7.  , 29.  , 70.  , 32.  , 24.  , 28.  ])"
            ]
          },
          "metadata": {},
          "execution_count": 16
        }
      ]
    },
    {
      "cell_type": "code",
      "source": [
        "# H0 -> The mean age is 35\n",
        "# H1 -> The mean is less than 35"
      ],
      "metadata": {
        "execution": {
          "iopub.status.busy": "2023-04-06T12:42:20.581896Z",
          "iopub.execute_input": "2023-04-06T12:42:20.582575Z",
          "iopub.status.idle": "2023-04-06T12:42:20.587769Z",
          "shell.execute_reply.started": "2023-04-06T12:42:20.582537Z",
          "shell.execute_reply": "2023-04-06T12:42:20.586024Z"
        },
        "trusted": true,
        "id": "vfYoVhjGn6T2"
      },
      "execution_count": 9,
      "outputs": []
    },
    {
      "cell_type": "code",
      "source": [
        "# check for normality using Shapiro Wilk test\n",
        "from scipy.stats import shapiro\n",
        "\n",
        "shapiro_age = shapiro(sample_age)\n",
        "\n",
        "print(shapiro_age)"
      ],
      "metadata": {
        "execution": {
          "iopub.status.busy": "2023-04-06T12:42:22.854867Z",
          "iopub.execute_input": "2023-04-06T12:42:22.855316Z",
          "iopub.status.idle": "2023-04-06T12:42:22.862408Z",
          "shell.execute_reply.started": "2023-04-06T12:42:22.855267Z",
          "shell.execute_reply": "2023-04-06T12:42:22.860817Z"
        },
        "trusted": true,
        "id": "MJvkwxOLn6T2",
        "outputId": "65cf6f05-c65b-4df1-e32d-bfb3fa73fd9f",
        "colab": {
          "base_uri": "https://localhost:8080/"
        }
      },
      "execution_count": 17,
      "outputs": [
        {
          "output_type": "stream",
          "name": "stdout",
          "text": [
            "ShapiroResult(statistic=0.9580524563789368, pvalue=0.37705186009407043)\n"
          ]
        }
      ]
    },
    {
      "cell_type": "code",
      "source": [
        "pop_mean = 35"
      ],
      "metadata": {
        "execution": {
          "iopub.status.busy": "2023-04-06T12:42:28.743878Z",
          "iopub.execute_input": "2023-04-06T12:42:28.744297Z",
          "iopub.status.idle": "2023-04-06T12:42:28.749124Z",
          "shell.execute_reply.started": "2023-04-06T12:42:28.744237Z",
          "shell.execute_reply": "2023-04-06T12:42:28.748101Z"
        },
        "trusted": true,
        "id": "ogQi858sn6T3"
      },
      "execution_count": 18,
      "outputs": []
    },
    {
      "cell_type": "code",
      "source": [
        "import scipy.stats as stats\n",
        "\n",
        "t_statistic, p_value = stats.ttest_1samp(sample_age, pop_mean)\n",
        "\n",
        "print(\"t-statistic:\", t_statistic)\n",
        "print(\"p-value:\", p_value/2)"
      ],
      "metadata": {
        "execution": {
          "iopub.status.busy": "2023-04-06T13:04:55.460714Z",
          "iopub.execute_input": "2023-04-06T13:04:55.461138Z",
          "iopub.status.idle": "2023-04-06T13:04:55.4695Z",
          "shell.execute_reply.started": "2023-04-06T13:04:55.461102Z",
          "shell.execute_reply": "2023-04-06T13:04:55.467771Z"
        },
        "trusted": true,
        "id": "bS_FwfVRn6T3",
        "outputId": "0c00c56e-bf30-49f0-9569-79d2032fecd7",
        "colab": {
          "base_uri": "https://localhost:8080/"
        }
      },
      "execution_count": 19,
      "outputs": [
        {
          "output_type": "stream",
          "name": "stdout",
          "text": [
            "t-statistic: -2.0325675445337392\n",
            "p-value: 0.026651387423928034\n"
          ]
        }
      ]
    },
    {
      "cell_type": "code",
      "source": [
        "p_value"
      ],
      "metadata": {
        "id": "7j4LSvG3tfc2",
        "outputId": "a68d353f-4b48-4a1c-c53c-c59d4cadacc8",
        "colab": {
          "base_uri": "https://localhost:8080/"
        }
      },
      "execution_count": 20,
      "outputs": [
        {
          "output_type": "execute_result",
          "data": {
            "text/plain": [
              "0.05330277484785607"
            ]
          },
          "metadata": {},
          "execution_count": 20
        }
      ]
    },
    {
      "cell_type": "code",
      "source": [
        "alpha = 0.05\n",
        "\n",
        "if p_value/2 < alpha:\n",
        "    print(\"Reject the null hypothesis.\")\n",
        "else:\n",
        "    print(\"Fail to reject the null hypothesis.\")\n"
      ],
      "metadata": {
        "execution": {
          "iopub.status.busy": "2023-04-06T12:42:40.08214Z",
          "iopub.execute_input": "2023-04-06T12:42:40.082916Z",
          "iopub.status.idle": "2023-04-06T12:42:40.090895Z",
          "shell.execute_reply.started": "2023-04-06T12:42:40.082858Z",
          "shell.execute_reply": "2023-04-06T12:42:40.089226Z"
        },
        "trusted": true,
        "id": "zdTOG8eTn6T3",
        "outputId": "61c1e24f-dd57-4bfc-80b1-ca4a7ac42600",
        "colab": {
          "base_uri": "https://localhost:8080/"
        }
      },
      "execution_count": 22,
      "outputs": [
        {
          "output_type": "stream",
          "name": "stdout",
          "text": [
            "Reject the null hypothesis.\n"
          ]
        }
      ]
    },
    {
      "cell_type": "code",
      "source": [
        "pop"
      ],
      "metadata": {
        "execution": {
          "iopub.status.busy": "2023-04-06T15:49:49.957881Z",
          "iopub.execute_input": "2023-04-06T15:49:49.959133Z",
          "iopub.status.idle": "2023-04-06T15:49:50.056257Z",
          "shell.execute_reply.started": "2023-04-06T15:49:49.959075Z",
          "shell.execute_reply": "2023-04-06T15:49:50.054143Z"
        },
        "trusted": true,
        "id": "KHpGCrnRn6T4"
      },
      "execution_count": null,
      "outputs": []
    },
    {
      "cell_type": "code",
      "source": [],
      "metadata": {
        "id": "pAAgxjFGn6T4"
      },
      "execution_count": null,
      "outputs": []
    }
  ]
}