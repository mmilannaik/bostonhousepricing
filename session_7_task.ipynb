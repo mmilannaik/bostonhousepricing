{
  "nbformat": 4,
  "nbformat_minor": 0,
  "metadata": {
    "colab": {
      "provenance": [],
      "include_colab_link": true
    },
    "kernelspec": {
      "name": "python3",
      "display_name": "Python 3"
    },
    "language_info": {
      "name": "python"
    }
  },
  "cells": [
    {
      "cell_type": "markdown",
      "metadata": {
        "id": "view-in-github",
        "colab_type": "text"
      },
      "source": [
        "<a href=\"https://colab.research.google.com/github/mmilannaik/bostonhousepricing/blob/main/session_7_task.ipynb\" target=\"_parent\"><img src=\"https://colab.research.google.com/assets/colab-badge.svg\" alt=\"Open In Colab\"/></a>"
      ]
    },
    {
      "cell_type": "markdown",
      "source": [
        "##`Q-1:` Rectangle Class\n",
        "1. Write a Rectangle class in Python language, allowing you to build a rectangle with length and width attributes.\n",
        "\n",
        "2. Create a Perimeter() method to calculate the perimeter of the rectangle and a Area() method to calculate the area of ​​the rectangle.\n",
        "\n",
        "3. Create a method display() that display the length, width, perimeter and area of an object created using an instantiation on rectangle class."
      ],
      "metadata": {
        "id": "FyUJ3PRAsPr4"
      }
    },
    {
      "cell_type": "markdown",
      "source": [
        "Eg.\n",
        "After making above classes and methods, on executing below code:-\n",
        "```\n",
        "my_rectangle = Rectangle(3 , 4)\n",
        "my_rectangle.display()\n",
        "```\n",
        "\n",
        "`Output:`\n",
        "```\n",
        "The length of rectangle is:  3\n",
        "The width of rectangle is:  4\n",
        "The perimeter of rectangle is:  14\n",
        "The area of rectangle is:  12\n",
        "```\n"
      ],
      "metadata": {
        "id": "GxUtOqJfssFK"
      }
    },
    {
      "cell_type": "code",
      "source": [
        "# write your code here\n",
        "class Rectangle():\n",
        "  def __init__(self,a,b):\n",
        "    self.a = a\n",
        "    self.b = b\n",
        "  def Perimeter(self):\n",
        "    peri = 2*(self.a+self.b)\n",
        "    return peri\n",
        "    #print('the perimeter of rectangle is :',peri)\n",
        "\n",
        "  def Area(self):\n",
        "    area = self.a*self.b\n",
        "    return area\n",
        "    #print('the area of rectangle is :',area)\n",
        "\n",
        "  def display(self):\n",
        "    print('The length of rectangle is:',self.a)\n",
        "    print('The width of rectangle is:',self.b)\n",
        "    print('The perimeter of rectangle is:',self.Perimeter())\n",
        "    print('The area of rectangle is:',self.Area())\n",
        "\n"
      ],
      "metadata": {
        "id": "92_QT-Uj6NBg"
      },
      "execution_count": 9,
      "outputs": []
    },
    {
      "cell_type": "code",
      "source": [
        "my_rectangle = Rectangle(3 , 4)\n",
        "my_rectangle.display()"
      ],
      "metadata": {
        "colab": {
          "base_uri": "https://localhost:8080/"
        },
        "id": "NXaYsr9KEGlq",
        "outputId": "835a701b-ce35-4d3d-cabd-445afa306600"
      },
      "execution_count": 10,
      "outputs": [
        {
          "output_type": "stream",
          "name": "stdout",
          "text": [
            "The length of rectangle is: 3\n",
            "The width of rectangle is: 4\n",
            "The perimeter of rectangle is: 14\n",
            "The area of rectangle is: 12\n"
          ]
        }
      ]
    },
    {
      "cell_type": "markdown",
      "source": [
        "##`Q-2: Bank Class`\n",
        "\n",
        "1. Create a Python class called `BankAccount` which represents a bank account, having as attributes: `accountNumber` (numeric type), `name` (name of the account owner as string type), `balance`.\n",
        "2. Create a constructor with parameters: `accountNumber, name, balance`.\n",
        "3. Create a `Deposit()` method which manages the deposit actions.\n",
        "4. Create a `Withdrawal()` method  which manages withdrawals actions.\n",
        "5. Create an `bankFees()` method to apply the bank fees with a percentage of 5% of the balance account.\n",
        "6. Create a `display()` method to display account details.\n",
        "Give the complete code for the  BankAccount class."
      ],
      "metadata": {
        "id": "r_GxrS0Vrdom"
      }
    },
    {
      "cell_type": "markdown",
      "source": [
        "Eg.\n",
        "After making above classes and methods, on executing below code:-\n",
        "```\n",
        "newAccount = BankAccount(2178514584, \"Mandy\" , 2800)\n",
        "\n",
        "newAccount.Withdrawal(700)\n",
        "\n",
        "newAccount.Deposit(1000)\n",
        "\n",
        "newAccount.display()\n",
        "```\n",
        "\n",
        "`Output:`\n",
        "```\n",
        "Account Number :  2178514584\n",
        "Account Name :  Mandy\n",
        "Account Balance :  3100 ₹\n",
        "```"
      ],
      "metadata": {
        "id": "qvVkOUJgvTV_"
      }
    },
    {
      "cell_type": "code",
      "source": [
        "# write your code here\n",
        "class BankAccount():\n",
        "  def __init__(self,accountNumber,name,balance):\n",
        "    self.accountNumber = accountNumber\n",
        "    self.name = name\n",
        "    self.balance = balance\n",
        "\n",
        "  def Deposit(self,amount):\n",
        "    self.balance = self.balance+amount\n",
        "\n",
        "  def Withdrawal(self,amount):\n",
        "    self.balance = self.balance-amount\n",
        "\n",
        "  def bankFees(self,fee):\n",
        "    self.balance = self.balance*(1-(fee/100))\n",
        "\n",
        "  def display(self):\n",
        "    print('Account Number :',self.accountNumber)\n",
        "    print('Account Name :',self.name)\n",
        "    print('Account Balance :',self.balance)\n",
        ""
      ],
      "metadata": {
        "id": "fUQOmQyA6YDR"
      },
      "execution_count": 13,
      "outputs": []
    },
    {
      "cell_type": "code",
      "source": [
        "newAccount = BankAccount(2178514584, \"Mandy\" , 2800)\n",
        "\n",
        "newAccount.Withdrawal(700)\n",
        "\n",
        "newAccount.Deposit(1000)\n",
        "\n",
        "newAccount.display()"
      ],
      "metadata": {
        "colab": {
          "base_uri": "https://localhost:8080/"
        },
        "id": "aV4byTuJdBPq",
        "outputId": "6939ed2c-de37-4542-ce99-09fe18ff1763"
      },
      "execution_count": 14,
      "outputs": [
        {
          "output_type": "stream",
          "name": "stdout",
          "text": [
            "Account Number : 2178514584\n",
            "Account Name : Mandy\n",
            "Account Balance : 3100\n"
          ]
        }
      ]
    },
    {
      "cell_type": "markdown",
      "source": [
        "##`Q-3:Computation class`\n",
        "\n",
        "1. Create a `Computation` class with a default constructor (without parameters) allowing to perform various calculations on integers numbers.\n",
        "2. Create a method called `Factorial()` which allows to calculate the factorial of an integer n. Integer n as parameter for this method\n",
        "\n",
        "3. Create a method called `naturalSum()` allowing to calculate the sum of the first n integers 1 + 2 + 3 + .. + n. Integer n as parameter for this method.\n",
        "\n",
        "4. Create a method called `testPrime()` in  the Calculation class to test the primality of a given integer n, n is Prime or Not? Integer n as parameter for this method.\n",
        "\n",
        "5. Create  a method called `testPrims()` allowing to test if two numbers are prime between them. Two integers are prime to one another if they have only `1` as their common divisor. Eg. 4 and 9 are prime to each other.\n",
        "\n",
        "5. Create a `tableMult()` method which creates and displays the multiplication table of a given integer. Then create an `allTablesMult()` method to display all the integer multiplication tables 1, 2, 3, ..., 9.\n",
        "\n",
        "6. Create a static `listDiv()` method that gets all the divisors of a given integer on new list called  Ldiv. Create another `listDivPrim()` method that gets all the prime divisors of a given integer."
      ],
      "metadata": {
        "id": "QovcQAZTrgGU"
      }
    },
    {
      "cell_type": "code",
      "source": [
        "# write your code here\n",
        "class Computation():\n",
        "  def __init__(self):\n",
        "    pass\n",
        "  def Factorial(self,n):\n",
        "    if n<0:\n",
        "      return None\n",
        "    result = 1\n",
        "    for i in range(1,n+1):\n",
        "      result *= i\n",
        "    return result\n",
        "  def  naturalSum(self,n):\n",
        "    if n<0:\n",
        "      return None\n",
        "    result = 1\n",
        "    for i in range(1,n+1):\n",
        "      result += i\n",
        "    return result\n",
        "  def testPrime(self,n):\n",
        "    if n<=1:\n",
        "      return False\n",
        "    for i in range(2,int(n**0.5)+1):\n",
        "      if n%i==0:\n",
        "        return False\n",
        "      return True\n",
        "  def testPrims(self,a,b):\n",
        "    gcd = self.gcd(a,b)\n",
        "    return gcd == 1\n",
        "  def gcd(self,a,b):\n",
        "    while b!=0:\n",
        "      a,b =b,a%b\n",
        "    return a\n",
        "  def tableMult(self,n):\n",
        "    print(f\"multiplication of table {n}\")\n",
        "    for i in range(1,11):\n",
        "      print(f\"{n} x {i} = {n*i}\")\n",
        "\n",
        "  def allTablesMult(self):\n",
        "    for i in range(1,10):\n",
        "      self.tableMult(i)\n",
        "      print()\n",
        "\n",
        "  @staticmethod\n",
        "  def list_divisors(n):\n",
        "    Ldiv = []\n",
        "    for i in range(1,int(n**0.5)+1):\n",
        "      if n % i ==0:\n",
        "        Ldiv.append(i)\n",
        "        if i != n//i:\n",
        "          Ldiv.append(n//i)\n",
        "    Ldiv.sort()\n",
        "    return Ldiv\n",
        "\n",
        "  def listDivPrim(self,n):\n",
        "    prime_divisors = []\n",
        "    for d in self.list_divisors(n):\n",
        "      if self.testPrime(d):\n",
        "        prime_divisors.append(d)\n",
        "    return prime_divisors\n",
        "\n",
        ""
      ],
      "metadata": {
        "id": "YEkPH70l6Z-o"
      },
      "execution_count": 5,
      "outputs": []
    },
    {
      "cell_type": "markdown",
      "source": [
        "##`Q-4`: Build flashcard using class in Python.\n",
        "\n",
        "Build a flashcard using class in python. A flashcard is a card having information on both sides, which can be used as an aid in memoization. Flashcards usually have a question on one side and an answer on the other.\n",
        "\n",
        "**Example 1:**\n",
        "\n",
        "Approach:\n",
        "\n",
        "- Create a class named FlashCard.\n",
        "- Initialize dictionary fruits using __init__() method. Here you have to define fruit name as key and it's color as value. E.g., {\"Banana\": \"yellow\", \"Strawberries\": \"pink\"}\n",
        "- Now randomly choose a pair from fruits by using _random_ module and store the key in variable _fruit_ and _value_ in variable color.\n",
        "- Now prompt the user to answer the color of the randomly chosen fruit.\n",
        "- If correct print correct else print wrong.\n",
        "\n",
        "Output:\n",
        "```bash\n",
        "welcome to fruit quiz\n",
        "What is the color of Strawberries\n",
        "pink\n",
        "Correct answer\n",
        "Enter 0, if you want to play again: 0\n",
        "What is the color of watermelon\n",
        "green\n",
        "Correct answer\n",
        "Enter 0, if you want to play again: 1\n",
        "```"
      ],
      "metadata": {
        "id": "0yn23_oEriXa"
      }
    },
    {
      "cell_type": "code",
      "source": [
        "# write your code here\n",
        "import random\n",
        "\n",
        "class FlashCard():\n",
        "  def __init__(self,cards):\n",
        "    print('welcome to the fruit quiz')\n",
        "    self.cards = cards\n",
        "  def show_card(self):\n",
        "    question,answer = random.choice(list(self.cards.items()))\n",
        "    print(f\"what is the color of {question}\")\n",
        "    user_answer = input(\"Your answer \")\n",
        "    if user_answer.lower() == answer.lower():\n",
        "      print('Correct')\n",
        "    else:\n",
        "      print('Wrong')\n",
        "    play_again = input('Enter 0, if you want to play again')\n",
        "    while play_again=='0':\n",
        "      question,answer = random.choice(list(self.cards.items()))\n",
        "      print(f\"what is the color of {question}\")\n",
        "      user_answer = input(\"Your answer \")\n",
        "      if user_answer.lower() == answer.lower():\n",
        "        print('Correct')\n",
        "      else:\n",
        "        print('Wrong')\n",
        "      play_again = input('Enter 0, if you want to play again')"
      ],
      "metadata": {
        "id": "vCrUF6VU6l6w"
      },
      "execution_count": 20,
      "outputs": []
    },
    {
      "cell_type": "code",
      "source": [
        "fruits = {\n",
        "    \"Banana\": \"yellow\",\n",
        "    \"Strawberry\": \"red\",\n",
        "    \"Apple\": \"red\",\n",
        "    \"Orange\": \"orange\",\n",
        "    \"Grape\": \"purple\"\n",
        "}\n",
        "quiz = FlashCard(fruits)\n",
        "quiz.show_card()"
      ],
      "metadata": {
        "colab": {
          "base_uri": "https://localhost:8080/"
        },
        "id": "u9YqyRXzPAJo",
        "outputId": "511f7333-da7a-49d1-e305-65ddf0baffa0"
      },
      "execution_count": 21,
      "outputs": [
        {
          "name": "stdout",
          "output_type": "stream",
          "text": [
            "welcome to the fruit quiz\n",
            "what is the color of Strawberry\n",
            "Your answer red\n",
            "Correct\n",
            "Enter 0, if you want to play again0\n",
            "what is the color of Banana\n",
            "Your answer yellow\n",
            "Correct\n",
            "Enter 0, if you want to play again0\n",
            "what is the color of Orange\n",
            "Your answer blue\n",
            "Wrong\n",
            "Enter 0, if you want to play again0\n",
            "what is the color of Grape\n",
            "Your answer purple\n",
            "Correct\n",
            "Enter 0, if you want to play again1\n"
          ]
        }
      ]
    },
    {
      "cell_type": "markdown",
      "source": [
        "## `Q-5:` Problem 5 based on OOP Python.\n",
        "\n",
        "TechWorld, a technology training center, wants to allocate courses for instructors. An instructor is identified by name, technology skills, experience and average feedback. An instructor is allocated a course, if he/she satisfies the below two conditions:\n",
        "- eligibility criteria:\n",
        "    - if experience is more than 3 years, average feedback should be 4.5 or more\n",
        "    - if experience is 3 years or less, average feedback should be 4 or more\n",
        "- he/she should posses the technology skill for the course\n",
        "\n",
        "Identify the class name and attributes to represent instructors. Write a Python program to implement the class chosen with its attributes and methods.\n",
        "\n",
        "**Note:**\n",
        "- Consider all instance variables to be private and methods to be public.\n",
        "- An instructor may have multiple technology skills, so consider instance variable, technology_skill to be a list.\n",
        "- *check_eligibility()*: Return true if eligibility criteria is satisfied by the instructor. Else, return false\n",
        "- *allocate_course(technology)*: Return true if the course which requires the given technology can be allocated to the instructor. Else, return false.\n",
        "\n",
        "Represent a few objects of the class, initialize instance variables using setter methods, invoke\n",
        "appropriate methods and test your program."
      ],
      "metadata": {
        "id": "GN2r0jbRewYr"
      }
    },
    {
      "cell_type": "code",
      "source": [
        "# write your code here\n",
        "class techworld():\n",
        "  def __init__(self,name,tech_skill,exp,feed):\n",
        "    self.__name = name\n",
        "    self.__tech_skill = tech_skill\n",
        "    self.__exp = exp\n",
        "    self.__feed = feed\n",
        "  def set_name(self,name):\n",
        "    self.__name = name\n",
        "\n",
        "  def get_name(self):\n",
        "    return self.__name\n",
        "\n",
        "  def set_tech_skill(self,tech_skill):\n",
        "    self.__tech_skill = tech_skill\n",
        "\n",
        "  def get_tech_skill(self):\n",
        "    return self.__tech_skill\n",
        "\n",
        "  def set_exp(self,exp):\n",
        "    self.__exp = exp\n",
        "\n",
        "  def get_exp(self):\n",
        "    return self.__exp\n",
        "\n",
        "  def set_feed(self,feed):\n",
        "    self.__exp = exp\n",
        "\n",
        "  def get_feed(self):\n",
        "    return self.__feed\n",
        "\n",
        "  def check_eligibility(self):\n",
        "    if self.__exp> 3 and self.__feed >=4.5:\n",
        "      return True\n",
        "    elif self.__exp <=3 and self.__feed >=4:\n",
        "      return True\n",
        "    else:\n",
        "      return False\n",
        "  def allocate_course(self,tech):\n",
        "    if self.check_eligibility() and tech in self.__tech_skill:\n",
        "      return True\n",
        "    return False\n",
        "\n",
        "\n",
        ""
      ],
      "metadata": {
        "id": "pdMFuVFnlvKL"
      },
      "execution_count": 1,
      "outputs": []
    },
    {
      "cell_type": "code",
      "source": [
        "# Example usage\n",
        "instructor1 = techworld(\"Alice\", [\"Python\", \"Java\"], 5, 4.6)\n",
        "instructor2 = techworld(\"Bob\", [\"C++\", \"JavaScript\"], 2, 4.1)\n",
        "instructor3 = techworld(\"Charlie\", [\"Java\", \"C#\"], 4, 4.4)"
      ],
      "metadata": {
        "id": "MjTXwGOPg-qk"
      },
      "execution_count": 3,
      "outputs": []
    },
    {
      "cell_type": "code",
      "source": [
        "# Test the check_eligibility method\n",
        "print(instructor1.check_eligibility())  # Output: True\n",
        "print(instructor2.check_eligibility())  # Output: True\n",
        "print(instructor3.check_eligibility())  # Output: False"
      ],
      "metadata": {
        "colab": {
          "base_uri": "https://localhost:8080/"
        },
        "id": "HuvwQKMAg9qI",
        "outputId": "de263c22-2ed3-404a-ccdd-a34cf8746e87"
      },
      "execution_count": 4,
      "outputs": [
        {
          "output_type": "stream",
          "name": "stdout",
          "text": [
            "True\n",
            "True\n",
            "False\n"
          ]
        }
      ]
    }
  ]
}