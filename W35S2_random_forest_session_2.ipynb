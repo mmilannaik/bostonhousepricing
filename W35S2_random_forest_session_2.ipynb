{
  "nbformat": 4,
  "nbformat_minor": 0,
  "metadata": {
    "colab": {
      "provenance": [],
      "include_colab_link": true
    },
    "kernelspec": {
      "name": "python3",
      "display_name": "Python 3"
    },
    "language_info": {
      "name": "python"
    }
  },
  "cells": [
    {
      "cell_type": "markdown",
      "metadata": {
        "id": "view-in-github",
        "colab_type": "text"
      },
      "source": [
        "<a href=\"https://colab.research.google.com/github/mmilannaik/bostonhousepricing/blob/main/W35S2_random_forest_session_2.ipynb\" target=\"_parent\"><img src=\"https://colab.research.google.com/assets/colab-badge.svg\" alt=\"Open In Colab\"/></a>"
      ]
    },
    {
      "cell_type": "code",
      "execution_count": 1,
      "metadata": {
        "colab": {
          "base_uri": "https://localhost:8080/"
        },
        "id": "XdmaiybvAKZW",
        "outputId": "0e00bb32-4f45-4fa6-ca51-656b4d54af1e"
      },
      "outputs": [
        {
          "output_type": "stream",
          "name": "stdout",
          "text": [
            "   sample\n",
            "8      17\n",
            "0      12\n",
            "4       4\n",
            "6       0\n",
            "0      12\n",
            "3       8\n",
            "9      10\n",
            "1      14\n",
            "4       4\n",
            "9      10\n",
            "   sample\n",
            "4       4\n",
            "1      14\n",
            "6       0\n",
            "8      17\n",
            "5      33\n",
            "8      17\n",
            "4       4\n",
            "5      33\n",
            "9      10\n",
            "4       4\n"
          ]
        }
      ],
      "source": [
        "import pandas as pd\n",
        "import numpy as np\n",
        "\n",
        "df = pd.DataFrame(pd.Series([12,14,1,8,4,33,0,24,17,10]), columns=['sample'])\n",
        "\n",
        "print(df.sample(10,replace=True))\n",
        "print(df.sample(10,replace=True))\n",
        "# 8, 10, 24"
      ]
    },
    {
      "cell_type": "code",
      "source": [
        "from sklearn.datasets import make_classification\n",
        "from sklearn.model_selection import train_test_split\n",
        "from sklearn.ensemble import RandomForestClassifier\n",
        "from sklearn.metrics import accuracy_score\n",
        "\n",
        "# Create a synthetic dataset\n",
        "X, y = make_classification(n_samples=1000, n_features=20, n_informative=15, n_redundant=5, random_state=42)\n",
        "\n",
        "# Split the data into training and testing sets\n",
        "X_train, X_test, y_train, y_test = train_test_split(X, y, test_size=0.2, random_state=42)\n",
        "\n",
        "# Initialize the classifier with oob_score=True\n",
        "rf = RandomForestClassifier(oob_score=True, random_state=42)\n",
        "\n",
        "# Train the classifier\n",
        "rf.fit(X_train, y_train)\n",
        "\n",
        "# Predict the labels of the test set\n",
        "predictions = rf.predict(X_test)\n",
        "\n",
        "# Compute the accuracy of the classifier\n",
        "accuracy = accuracy_score(y_test, predictions)\n",
        "\n",
        "# Get the OOB score\n",
        "oob_score = rf.oob_score_\n",
        "\n",
        "accuracy, oob_score\n"
      ],
      "metadata": {
        "colab": {
          "base_uri": "https://localhost:8080/"
        },
        "id": "kJJz3IVUBc-b",
        "outputId": "0994aa26-5588-4ec9-b87b-bc5fb0481cfe"
      },
      "execution_count": 2,
      "outputs": [
        {
          "output_type": "execute_result",
          "data": {
            "text/plain": [
              "(0.9, 0.9075)"
            ]
          },
          "metadata": {},
          "execution_count": 2
        }
      ]
    },
    {
      "cell_type": "code",
      "source": [
        "from sklearn.datasets import make_classification\n",
        "from sklearn.model_selection import train_test_split\n",
        "from sklearn.ensemble import RandomForestClassifier, ExtraTreesClassifier\n",
        "from sklearn.metrics import accuracy_score\n",
        "\n",
        "# Create a synthetic dataset\n",
        "X, y = make_classification(n_samples=1000, n_features=20, n_informative=15, n_redundant=5, random_state=42)\n",
        "\n",
        "# Split the data into training and testing sets\n",
        "X_train, X_test, y_train, y_test = train_test_split(X, y, test_size=0.2, random_state=42)\n",
        "\n",
        "# Initialize the classifiers\n",
        "rf = RandomForestClassifier(random_state=42)\n",
        "et = ExtraTreesClassifier(random_state=42)\n",
        "\n",
        "# Train the classifiers\n",
        "rf.fit(X_train, y_train)\n",
        "et.fit(X_train, y_train)\n",
        "\n",
        "# Predict the labels of the test set\n",
        "rf_predictions = rf.predict(X_test)\n",
        "et_predictions = et.predict(X_test)\n",
        "\n",
        "# Compute the accuracy of the classifiers\n",
        "rf_accuracy = accuracy_score(y_test, rf_predictions)\n",
        "et_accuracy = accuracy_score(y_test, et_predictions)\n",
        "\n",
        "rf_accuracy, et_accuracy\n"
      ],
      "metadata": {
        "colab": {
          "base_uri": "https://localhost:8080/"
        },
        "id": "UJFKu49GAMBI",
        "outputId": "925944f4-4b46-4388-8ede-4486076966a7"
      },
      "execution_count": 3,
      "outputs": [
        {
          "output_type": "execute_result",
          "data": {
            "text/plain": [
              "(0.9, 0.935)"
            ]
          },
          "metadata": {},
          "execution_count": 3
        }
      ]
    }
  ]
}