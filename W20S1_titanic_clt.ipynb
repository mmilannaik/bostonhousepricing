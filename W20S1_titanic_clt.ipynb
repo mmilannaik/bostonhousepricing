{
  "metadata": {
    "kernelspec": {
      "language": "python",
      "display_name": "Python 3",
      "name": "python3"
    },
    "language_info": {
      "pygments_lexer": "ipython3",
      "nbconvert_exporter": "python",
      "version": "3.6.4",
      "file_extension": ".py",
      "codemirror_mode": {
        "name": "ipython",
        "version": 3
      },
      "name": "python",
      "mimetype": "text/x-python"
    },
    "colab": {
      "name": "titanic-clt",
      "provenance": [],
      "include_colab_link": true
    }
  },
  "nbformat_minor": 0,
  "nbformat": 4,
  "cells": [
    {
      "cell_type": "markdown",
      "metadata": {
        "id": "view-in-github",
        "colab_type": "text"
      },
      "source": [
        "<a href=\"https://colab.research.google.com/github/mmilannaik/bostonhousepricing/blob/main/W20S1_titanic_clt.ipynb\" target=\"_parent\"><img src=\"https://colab.research.google.com/assets/colab-badge.svg\" alt=\"Open In Colab\"/></a>"
      ]
    },
    {
      "source": [
        "\n",
        "# IMPORTANT: RUN THIS CELL IN ORDER TO IMPORT YOUR KAGGLE DATA SOURCES\n",
        "# TO THE CORRECT LOCATION (/kaggle/input) IN YOUR NOTEBOOK,\n",
        "# THEN FEEL FREE TO DELETE THIS CELL.\n",
        "# NOTE: THIS NOTEBOOK ENVIRONMENT DIFFERS FROM KAGGLE'S PYTHON\n",
        "# ENVIRONMENT SO THERE MAY BE MISSING LIBRARIES USED BY YOUR\n",
        "# NOTEBOOK.\n",
        "\n",
        "import os\n",
        "import sys\n",
        "from tempfile import NamedTemporaryFile\n",
        "from urllib.request import urlopen\n",
        "from urllib.parse import unquote, urlparse\n",
        "from urllib.error import HTTPError\n",
        "from zipfile import ZipFile\n",
        "import tarfile\n",
        "import shutil\n",
        "\n",
        "CHUNK_SIZE = 40960\n",
        "DATA_SOURCE_MAPPING = 'titanic:https%3A%2F%2Fstorage.googleapis.com%2Fkaggle-competitions-data%2Fkaggle-v2%2F3136%2F26502%2Fbundle%2Farchive.zip%3FX-Goog-Algorithm%3DGOOG4-RSA-SHA256%26X-Goog-Credential%3Dgcp-kaggle-com%2540kaggle-161607.iam.gserviceaccount.com%252F20240703%252Fauto%252Fstorage%252Fgoog4_request%26X-Goog-Date%3D20240703T092854Z%26X-Goog-Expires%3D259200%26X-Goog-SignedHeaders%3Dhost%26X-Goog-Signature%3D56eebd9f66289b2f09473c2a502ece1ff747f7cfa495d5cceb6208a71267c9c3c6bffcb92d8fd03bc4825d6d00bab4d8898bb098b361f0127511754adf75d64732e8cbdc7ccab423a45183e6ff7e473e58c410a0b6af7d78e9b01af74ac4220ec0fcf148349341fa0010c7241b049cb0fdd5c228a9787afbff4f78e4628035e3e80bdead88742e5f9ccc39e91b0f7cc201d90b3e8ecd214e2129fa40f8f4c05cf0c28ce402b1e83f6d01189b1a0fe77ea1a2eeccdb8df24f983a17d6d54d78faba3c708ed550d12a374a796038ac34ad0f19ad5fc5282ac60457e5b25292b07503ce72800d9ddf2e7614a2797425085f1156605032f5e03e490939ebae205b0e'\n",
        "\n",
        "KAGGLE_INPUT_PATH='/kaggle/input'\n",
        "KAGGLE_WORKING_PATH='/kaggle/working'\n",
        "KAGGLE_SYMLINK='kaggle'\n",
        "\n",
        "!umount /kaggle/input/ 2> /dev/null\n",
        "shutil.rmtree('/kaggle/input', ignore_errors=True)\n",
        "os.makedirs(KAGGLE_INPUT_PATH, 0o777, exist_ok=True)\n",
        "os.makedirs(KAGGLE_WORKING_PATH, 0o777, exist_ok=True)\n",
        "\n",
        "try:\n",
        "  os.symlink(KAGGLE_INPUT_PATH, os.path.join(\"..\", 'input'), target_is_directory=True)\n",
        "except FileExistsError:\n",
        "  pass\n",
        "try:\n",
        "  os.symlink(KAGGLE_WORKING_PATH, os.path.join(\"..\", 'working'), target_is_directory=True)\n",
        "except FileExistsError:\n",
        "  pass\n",
        "\n",
        "for data_source_mapping in DATA_SOURCE_MAPPING.split(','):\n",
        "    directory, download_url_encoded = data_source_mapping.split(':')\n",
        "    download_url = unquote(download_url_encoded)\n",
        "    filename = urlparse(download_url).path\n",
        "    destination_path = os.path.join(KAGGLE_INPUT_PATH, directory)\n",
        "    try:\n",
        "        with urlopen(download_url) as fileres, NamedTemporaryFile() as tfile:\n",
        "            total_length = fileres.headers['content-length']\n",
        "            print(f'Downloading {directory}, {total_length} bytes compressed')\n",
        "            dl = 0\n",
        "            data = fileres.read(CHUNK_SIZE)\n",
        "            while len(data) > 0:\n",
        "                dl += len(data)\n",
        "                tfile.write(data)\n",
        "                done = int(50 * dl / int(total_length))\n",
        "                sys.stdout.write(f\"\\r[{'=' * done}{' ' * (50-done)}] {dl} bytes downloaded\")\n",
        "                sys.stdout.flush()\n",
        "                data = fileres.read(CHUNK_SIZE)\n",
        "            if filename.endswith('.zip'):\n",
        "              with ZipFile(tfile) as zfile:\n",
        "                zfile.extractall(destination_path)\n",
        "            else:\n",
        "              with tarfile.open(tfile.name) as tarfile:\n",
        "                tarfile.extractall(destination_path)\n",
        "            print(f'\\nDownloaded and uncompressed: {directory}')\n",
        "    except HTTPError as e:\n",
        "        print(f'Failed to load (likely expired) {download_url} to path {destination_path}')\n",
        "        continue\n",
        "    except OSError as e:\n",
        "        print(f'Failed to load {download_url} to path {destination_path}')\n",
        "        continue\n",
        "\n",
        "print('Data source import complete.')\n"
      ],
      "metadata": {
        "id": "lApJmWoK7Pnf"
      },
      "cell_type": "code",
      "outputs": [],
      "execution_count": null
    },
    {
      "cell_type": "code",
      "source": [
        "# This Python 3 environment comes with many helpful analytics libraries installed\n",
        "# It is defined by the kaggle/python Docker image: https://github.com/kaggle/docker-python\n",
        "# For example, here's several helpful packages to load\n",
        "\n",
        "import numpy as np # linear algebra\n",
        "import pandas as pd # data processing, CSV file I/O (e.g. pd.read_csv)\n",
        "\n",
        "# Input data files are available in the read-only \"../input/\" directory\n",
        "# For example, running this (by clicking run or pressing Shift+Enter) will list all files under the input directory\n",
        "\n",
        "import os\n",
        "for dirname, _, filenames in os.walk('/kaggle/input'):\n",
        "    for filename in filenames:\n",
        "        print(os.path.join(dirname, filename))\n",
        "\n",
        "# You can write up to 20GB to the current directory (/kaggle/working/) that gets preserved as output when you create a version using \"Save & Run All\"\n",
        "# You can also write temporary files to /kaggle/temp/, but they won't be saved outside of the current session"
      ],
      "metadata": {
        "_uuid": "8f2839f25d086af736a60e9eeb907d3b93b6e0e5",
        "_cell_guid": "b1076dfc-b9ad-4769-8c92-a6c4dae69d19",
        "execution": {
          "iopub.status.busy": "2023-03-28T15:42:22.005524Z",
          "iopub.execute_input": "2023-03-28T15:42:22.005933Z",
          "iopub.status.idle": "2023-03-28T15:42:22.046964Z",
          "shell.execute_reply.started": "2023-03-28T15:42:22.005899Z",
          "shell.execute_reply": "2023-03-28T15:42:22.045467Z"
        },
        "trusted": true,
        "id": "ATDRiFin7Pnn"
      },
      "execution_count": null,
      "outputs": []
    },
    {
      "cell_type": "code",
      "source": [
        "train_df = pd.read_csv('/kaggle/input/titanic/train.csv')\n",
        "test_df = pd.read_csv('/kaggle/input/titanic/test.csv')"
      ],
      "metadata": {
        "execution": {
          "iopub.status.busy": "2023-03-28T15:43:11.315989Z",
          "iopub.execute_input": "2023-03-28T15:43:11.316419Z",
          "iopub.status.idle": "2023-03-28T15:43:11.353894Z",
          "shell.execute_reply.started": "2023-03-28T15:43:11.316374Z",
          "shell.execute_reply": "2023-03-28T15:43:11.352411Z"
        },
        "trusted": true,
        "id": "XE5K_b3r7Pno"
      },
      "execution_count": null,
      "outputs": []
    },
    {
      "cell_type": "code",
      "source": [
        "df = pd.concat([train_df.drop(columns=['Survived']),test_df]).sample(1309)"
      ],
      "metadata": {
        "execution": {
          "iopub.status.busy": "2023-03-28T15:45:37.134825Z",
          "iopub.execute_input": "2023-03-28T15:45:37.135386Z",
          "iopub.status.idle": "2023-03-28T15:45:37.149664Z",
          "shell.execute_reply.started": "2023-03-28T15:45:37.135343Z",
          "shell.execute_reply": "2023-03-28T15:45:37.148263Z"
        },
        "trusted": true,
        "id": "dzIhQs8t7Pno"
      },
      "execution_count": null,
      "outputs": []
    },
    {
      "cell_type": "code",
      "source": [
        "df['Fare'].plot(kind='kde')"
      ],
      "metadata": {
        "execution": {
          "iopub.status.busy": "2023-03-28T15:46:24.972433Z",
          "iopub.execute_input": "2023-03-28T15:46:24.973675Z",
          "iopub.status.idle": "2023-03-28T15:46:25.626082Z",
          "shell.execute_reply.started": "2023-03-28T15:46:24.973625Z",
          "shell.execute_reply": "2023-03-28T15:46:25.624462Z"
        },
        "trusted": true,
        "id": "Vw3ljUWm7Pnp"
      },
      "execution_count": null,
      "outputs": []
    },
    {
      "cell_type": "code",
      "source": [
        "# sample size = 50 -> 100 times\n",
        "samples = []\n",
        "for i in range(100):\n",
        "    samples.append(df['Fare'].dropna().sample(50).values.tolist())"
      ],
      "metadata": {
        "execution": {
          "iopub.status.busy": "2023-03-28T15:51:53.55449Z",
          "iopub.execute_input": "2023-03-28T15:51:53.554938Z",
          "iopub.status.idle": "2023-03-28T15:51:53.59048Z",
          "shell.execute_reply.started": "2023-03-28T15:51:53.5549Z",
          "shell.execute_reply": "2023-03-28T15:51:53.589378Z"
        },
        "trusted": true,
        "id": "4i_Q3Xlf7Pnp"
      },
      "execution_count": null,
      "outputs": []
    },
    {
      "cell_type": "code",
      "source": [
        "samples = np.array(samples)"
      ],
      "metadata": {
        "execution": {
          "iopub.status.busy": "2023-03-28T15:51:54.629236Z",
          "iopub.execute_input": "2023-03-28T15:51:54.629661Z",
          "iopub.status.idle": "2023-03-28T15:51:54.636321Z",
          "shell.execute_reply.started": "2023-03-28T15:51:54.629628Z",
          "shell.execute_reply": "2023-03-28T15:51:54.634938Z"
        },
        "trusted": true,
        "id": "qnmrzzX57Pnq"
      },
      "execution_count": null,
      "outputs": []
    },
    {
      "cell_type": "code",
      "source": [
        "sampling_means = samples.mean(axis=1)"
      ],
      "metadata": {
        "execution": {
          "iopub.status.busy": "2023-03-28T15:51:55.197488Z",
          "iopub.execute_input": "2023-03-28T15:51:55.197917Z",
          "iopub.status.idle": "2023-03-28T15:51:55.205339Z",
          "shell.execute_reply.started": "2023-03-28T15:51:55.197881Z",
          "shell.execute_reply": "2023-03-28T15:51:55.203892Z"
        },
        "trusted": true,
        "id": "Kg0BnAFX7Pnr"
      },
      "execution_count": null,
      "outputs": []
    },
    {
      "cell_type": "code",
      "source": [
        "import seaborn as sns"
      ],
      "metadata": {
        "execution": {
          "iopub.status.busy": "2023-03-28T15:51:55.765533Z",
          "iopub.execute_input": "2023-03-28T15:51:55.765979Z",
          "iopub.status.idle": "2023-03-28T15:51:55.772087Z",
          "shell.execute_reply.started": "2023-03-28T15:51:55.765934Z",
          "shell.execute_reply": "2023-03-28T15:51:55.77051Z"
        },
        "trusted": true,
        "id": "v2AfFRb37Pnr"
      },
      "execution_count": null,
      "outputs": []
    },
    {
      "cell_type": "code",
      "source": [
        "sns.kdeplot(sampling_means)"
      ],
      "metadata": {
        "execution": {
          "iopub.status.busy": "2023-03-28T15:51:56.425707Z",
          "iopub.execute_input": "2023-03-28T15:51:56.426132Z",
          "iopub.status.idle": "2023-03-28T15:51:56.70384Z",
          "shell.execute_reply.started": "2023-03-28T15:51:56.426095Z",
          "shell.execute_reply": "2023-03-28T15:51:56.702171Z"
        },
        "trusted": true,
        "id": "hcddptkc7Pns"
      },
      "execution_count": null,
      "outputs": []
    },
    {
      "cell_type": "code",
      "source": [
        "sampling_means.mean()"
      ],
      "metadata": {
        "execution": {
          "iopub.status.busy": "2023-03-28T15:52:04.328176Z",
          "iopub.execute_input": "2023-03-28T15:52:04.328768Z",
          "iopub.status.idle": "2023-03-28T15:52:04.338018Z",
          "shell.execute_reply.started": "2023-03-28T15:52:04.328719Z",
          "shell.execute_reply": "2023-03-28T15:52:04.336589Z"
        },
        "trusted": true,
        "id": "vn3-weIo7Pns"
      },
      "execution_count": null,
      "outputs": []
    },
    {
      "cell_type": "code",
      "source": [
        "sampling_means.std()/np.sqrt(50)"
      ],
      "metadata": {
        "execution": {
          "iopub.status.busy": "2023-03-28T15:56:36.566403Z",
          "iopub.execute_input": "2023-03-28T15:56:36.566827Z",
          "iopub.status.idle": "2023-03-28T15:56:36.575812Z",
          "shell.execute_reply.started": "2023-03-28T15:56:36.566794Z",
          "shell.execute_reply": "2023-03-28T15:56:36.574422Z"
        },
        "trusted": true,
        "id": "EDNEOgL17Pnt"
      },
      "execution_count": null,
      "outputs": []
    },
    {
      "cell_type": "code",
      "source": [
        "lower_limit = sampling_means.mean() - 2*sampling_means.std()\n",
        "upper_limit = sampling_means.mean() + 2*sampling_means.std()"
      ],
      "metadata": {
        "execution": {
          "iopub.status.busy": "2023-03-28T16:29:19.690738Z",
          "iopub.execute_input": "2023-03-28T16:29:19.69119Z",
          "iopub.status.idle": "2023-03-28T16:29:19.699875Z",
          "shell.execute_reply.started": "2023-03-28T16:29:19.691154Z",
          "shell.execute_reply": "2023-03-28T16:29:19.697874Z"
        },
        "trusted": true,
        "id": "F1wd_QU77Pnt"
      },
      "execution_count": null,
      "outputs": []
    },
    {
      "cell_type": "code",
      "source": [
        "print('The range is',lower_limit,'-',upper_limit)"
      ],
      "metadata": {
        "execution": {
          "iopub.status.busy": "2023-03-28T16:29:21.279451Z",
          "iopub.execute_input": "2023-03-28T16:29:21.279862Z",
          "iopub.status.idle": "2023-03-28T16:29:21.286398Z",
          "shell.execute_reply.started": "2023-03-28T16:29:21.279828Z",
          "shell.execute_reply": "2023-03-28T16:29:21.284872Z"
        },
        "trusted": true,
        "id": "f40n181c7Pnu"
      },
      "execution_count": null,
      "outputs": []
    },
    {
      "cell_type": "code",
      "source": [
        "df['Fare'].dropna().mean()"
      ],
      "metadata": {
        "execution": {
          "iopub.status.busy": "2023-03-28T15:59:51.666335Z",
          "iopub.execute_input": "2023-03-28T15:59:51.667714Z",
          "iopub.status.idle": "2023-03-28T15:59:51.678137Z",
          "shell.execute_reply.started": "2023-03-28T15:59:51.667658Z",
          "shell.execute_reply": "2023-03-28T15:59:51.676285Z"
        },
        "trusted": true,
        "id": "WmCVXfgj7Pnu"
      },
      "execution_count": null,
      "outputs": []
    },
    {
      "cell_type": "code",
      "source": [],
      "metadata": {
        "id": "RiXkd0lv7Pnu"
      },
      "execution_count": null,
      "outputs": []
    }
  ]
}